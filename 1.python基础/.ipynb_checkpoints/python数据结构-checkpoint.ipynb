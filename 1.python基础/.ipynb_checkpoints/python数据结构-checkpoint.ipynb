{
 "cells": [
  {
   "cell_type": "code",
   "execution_count": 1,
   "metadata": {
    "slideshow": {
     "slide_type": "slide"
    },
    "tags": [
     "目录"
    ]
   },
   "outputs": [],
   "source": [
    "# 1.字符串str  无地址属性\n",
    "# 2.tuple   无地址属性   和str一样不能修改\n",
    "# 3.list 有地址属性\n",
    "# 4.dque双向队列 \n",
    "# 5.dict 字典\n",
    "# 6.set\n",
    "# 7.heapq\n",
    "#"
   ]
  },
  {
   "cell_type": "code",
   "execution_count": null,
   "metadata": {},
   "outputs": [],
   "source": []
  },
  {
   "cell_type": "code",
   "execution_count": 2,
   "metadata": {},
   "outputs": [],
   "source": [
    "# 1.字符串是获得数据的入口  是重要的第一关，字符串弄好了，至少考试没那么紧张\n",
    "# 1.1 读数据\n",
    "# .split() 按照关键地方分割 再配合切片  \n",
    "# .strip()  默认首位删除\\n   也可以自定义'\"'\n",
    "# .replace('a','b',1)  a换成b，只换1次   并且非地址操作，所以replace之后要赋值给自己\n",
    "# .startswith('a')  以a开头的话返回true\n",
    "# .endswith('a')      a结尾\n",
    "# 内外for循环做匹配 (同步指针法)\n",
    "# 缓存思想 (相同就加入缓存，不同就处理缓存，然后清空)    可以存 值串(消耗空间大)  半径范围(比较划算)  \n",
    "# 缓存思想和 同步指针是相反 缓存往左看  同步往后看\n",
    "# 跟随指针思想(不同就跟上i，若有结果就处理结果,同就不动)\n",
    "# "
   ]
  },
  {
   "cell_type": "code",
   "execution_count": 4,
   "metadata": {},
   "outputs": [],
   "source": [
    "# \n",
    "exam1='123,4,67'   #只需逗号分隔，map为int即可\n",
    "exam2='A={1,2,345},B={6,78,9},R=109'   #主要想获得\n",
    "exam3='% ^^  123-56mg--m-2g --'  #-是做连续符号，--是做分隔，要统计连续个数好麻烦，可以将2个以上的那个-串换成空格"
   ]
  },
  {
   "cell_type": "code",
   "execution_count": 5,
   "metadata": {},
   "outputs": [
    {
     "data": {
      "text/plain": [
       "[123, 4, 67]"
      ]
     },
     "execution_count": 5,
     "metadata": {},
     "output_type": "execute_result"
    }
   ],
   "source": [
    "list(map(int,exam1.strip().split(',')))  #第一种最简单  只是数字和, 组合    map也可以做str"
   ]
  },
  {
   "cell_type": "code",
   "execution_count": 9,
   "metadata": {},
   "outputs": [
    {
     "name": "stdout",
     "output_type": "stream",
     "text": [
      "1,2,345 6,78,9 109\n"
     ]
    },
    {
     "data": {
      "text/plain": [
       "['A', '{1,2,345},B', '{6,78,9},R', '109']"
      ]
     },
     "execution_count": 9,
     "metadata": {},
     "output_type": "execute_result"
    }
   ],
   "source": [
    "# 对于exam2  法一 ： 可以定位{ }的位置(遍历一遍)，然后切片读取  \n",
    "loca=[]  #处理数量不定的东西最好用 list append\n",
    "\n",
    "for i in range(len(exam2)):\n",
    "    if exam2[i] in ['{','}','R']:\n",
    "        loca.append(i)\n",
    "\n",
    "A=exam2[loca[0]+1:loca[1]]\n",
    "B=exam2[loca[2]+1:loca[3]]\n",
    "R=exam2[loca[4]+2:]\n",
    "print(A,B,R)\n",
    "\n",
    "# 法二： 直接split掉关键符号，然后切片读取  例如按照 = 号split\n",
    "exam2.split('=') \n",
    "# 然后切片读内容"
   ]
  },
  {
   "cell_type": "code",
   "execution_count": 10,
   "metadata": {},
   "outputs": [],
   "source": [
    "# 1.2 搜索\n",
    "\n",
    "# .find('a')  查a，贪心，若遇到，立即停下返回起始下标   若没有 返回-1\n",
    "# in \n",
    "# re.findall('\\{(.*?)\\}',exam2) #有?表示贪心做法    .*?常用  若要找两个以上的--    -*--  \n",
    "# .指的是任意字符0次或1次  *表示前一个符号出现0次或无限次(有多少要多少)   ?表示前面一个是0或1次   匹配到之后只返回 ( ) 里面的\n",
    "# *表示有多少要多少，就算遇到结尾也要是全局结尾才会停，  *?严格按照结尾来结束 ，局部结尾\n"
   ]
  },
  {
   "cell_type": "code",
   "execution_count": null,
   "metadata": {},
   "outputs": [],
   "source": [
    "# \n",
    "a='conv2d'  \n",
    "print(a.find('v2d')!=-1)   #find 是查到就返回第一个的 所以作用不大\n",
    "print(a.find('v^d')!=-1)"
   ]
  },
  {
   "cell_type": "code",
   "execution_count": 11,
   "metadata": {},
   "outputs": [
    {
     "data": {
      "text/plain": [
       "False"
      ]
     },
     "execution_count": 11,
     "metadata": {},
     "output_type": "execute_result"
    }
   ],
   "source": [
    "not -1  #非0的反就是0"
   ]
  },
  {
   "cell_type": "code",
   "execution_count": 13,
   "metadata": {},
   "outputs": [
    {
     "data": {
      "text/plain": [
       "['1,2,345', '6,78,9']"
      ]
     },
     "execution_count": 13,
     "metadata": {},
     "output_type": "execute_result"
    }
   ],
   "source": [
    "import re\n",
    "re.findall('\\{(.*?)\\}',exam2) # 遇到局部} ，然后停一下，再在下一位开始新的搜索"
   ]
  },
  {
   "cell_type": "code",
   "execution_count": 14,
   "metadata": {},
   "outputs": [
    {
     "data": {
      "text/plain": [
       "['1,2,345},B={6,78,9']"
      ]
     },
     "execution_count": 14,
     "metadata": {},
     "output_type": "execute_result"
    }
   ],
   "source": [
    "re.findall('\\{(.*)\\}',exam2)  #全局}才停下"
   ]
  },
  {
   "cell_type": "code",
   "execution_count": 16,
   "metadata": {},
   "outputs": [
    {
     "data": {
      "text/plain": [
       "[(4, 7), (12, 16), (19, 21)]"
      ]
     },
     "execution_count": 16,
     "metadata": {},
     "output_type": "execute_result"
    }
   ],
   "source": [
    "# 缓存 半径\n",
    "exam4='13-5---m-2g ---- 12--45'\n",
    "tem=[]\n",
    "huancun=1 #就像是半径\n",
    "\n",
    "for i in range(len(exam4)):\n",
    "    if exam4[i]=='-':\n",
    "        huancun+=1\n",
    "    else:\n",
    "        if huancun!=0:#前面有-符号 看是否连续\n",
    "            if huancun>=2:\n",
    "                \n",
    "                tem.append((i-huancun,i))\n",
    "        huancun=0\n",
    "tem"
   ]
  },
  {
   "cell_type": "code",
   "execution_count": 44,
   "metadata": {},
   "outputs": [
    {
     "name": "stdout",
     "output_type": "stream",
     "text": [
      "1\n",
      "2\n",
      "3\n",
      "4\n",
      "5\n",
      "6\n"
     ]
    }
   ],
   "source": [
    "a='12345645'\n",
    "b='45'\n",
    "# 同步指针法\n",
    "for i in range(len(a)-len(b)):  # 因为b 长度为2  为了不越界 可以先检查 a-b长度之后 遍历到哪\n",
    "    print(a[i])\n",
    "# 我是想遍历到倒数第二的4 所以再加1"
   ]
  },
  {
   "cell_type": "code",
   "execution_count": 47,
   "metadata": {},
   "outputs": [
    {
     "name": "stdout",
     "output_type": "stream",
     "text": [
      "4 3\n",
      "5 3\n",
      "4 6\n",
      "5 6\n"
     ]
    }
   ],
   "source": [
    "for i in range(len(a)-len(b)+1):  \n",
    "    for j in range(len(b)):\n",
    "        if b[j]==a[i+j]:\n",
    "            print(b[j],i)"
   ]
  },
  {
   "cell_type": "code",
   "execution_count": 1,
   "metadata": {},
   "outputs": [
    {
     "data": {
      "text/plain": [
       "'a123a45'"
      ]
     },
     "execution_count": 1,
     "metadata": {},
     "output_type": "execute_result"
    }
   ],
   "source": [
    "a=' 123 45'\n",
    "a.replace(' ','a')"
   ]
  },
  {
   "cell_type": "code",
   "execution_count": 2,
   "metadata": {},
   "outputs": [
    {
     "data": {
      "text/plain": [
       "' 123 45'"
      ]
     },
     "execution_count": 2,
     "metadata": {},
     "output_type": "execute_result"
    }
   ],
   "source": [
    "a"
   ]
  },
  {
   "cell_type": "code",
   "execution_count": 20,
   "metadata": {},
   "outputs": [
    {
     "name": "stdout",
     "output_type": "stream",
     "text": [
      "2 3 差值: 1\n",
      "4 7 差值: 3\n",
      "8 9 差值: 1\n",
      "12 16 差值: 4\n",
      "19 21 差值: 2\n"
     ]
    }
   ],
   "source": [
    "exam4='13-5---m-2g ---- 12--45'\n",
    "j=0  #j=-的时候是在计数状态\n",
    "for i in range(len(exam4)):\n",
    "    if exam4[i]=='-' and exam4[j]!='-':\n",
    "        j=i #发现- 但j没在计数  于是j跟上\n",
    "    if exam4[i]!='-' and exam4[j]=='-': #结束  前面没有-了，但j在计数   输出然后再跟上\n",
    "        print(j,i,'差值:',i-j)\n",
    "        j=i\n",
    "#然后根据连续性，再把 作为分隔符的多个 - replace掉"
   ]
  },
  {
   "cell_type": "code",
   "execution_count": 41,
   "metadata": {},
   "outputs": [
    {
     "name": "stdout",
     "output_type": "stream",
     "text": [
      "2341\n",
      "abc\n",
      "a2341b2341c\n",
      "123abc\n"
     ]
    }
   ],
   "source": [
    "# 1.3 修改值\n",
    "# str和tuple一样都是不能修改值的，只能重新赋值    要么用replace\n",
    "# \n",
    "a='1234'\n",
    "a=a[1:]+a[0]\n",
    "print(a) #最尾的放到最前\n",
    "\n",
    "# .join() 用法\n",
    "b=['1','2','3','4']\n",
    "print(''.join(['a','b','c'])) # 用''插入到list元素之间 数组变str\n",
    "print(a.join(['a','b','c'])) # 但这里有不同  join意思是 前面的东西，插入到后面list之间，成为全局的str\n",
    "\n",
    "# 当然如果要 '123' 和['a','b','c'] 直接连接  不用123插入a b c之间也是可以的\n",
    "print('123'+''.join(['a','b','c']))"
   ]
  },
  {
   "cell_type": "code",
   "execution_count": 22,
   "metadata": {},
   "outputs": [],
   "source": [
    "# 1.4\n",
    "# 判断数据类型\n",
    "# '123'.isdigit()  #只有数字的组合\n",
    "# 'B'.isalpha() \n",
    "# '123B'.isalnum()    数字或字母的组合 #true  \n",
    "# \n",
    "# \n",
    "# 大小写转换\n",
    "# .lower()\n",
    "# .upper()"
   ]
  },
  {
   "cell_type": "code",
   "execution_count": null,
   "metadata": {},
   "outputs": [],
   "source": []
  },
  {
   "cell_type": "code",
   "execution_count": 24,
   "metadata": {},
   "outputs": [
    {
     "data": {
      "text/plain": [
       "'123'"
      ]
     },
     "execution_count": 24,
     "metadata": {},
     "output_type": "execute_result"
    }
   ],
   "source": [
    "# 1.5 切片注意下标\n",
    "a='1234'\n",
    "a[:-1]  #-1指在4，而 : 含左不含右"
   ]
  },
  {
   "cell_type": "code",
   "execution_count": 1,
   "metadata": {},
   "outputs": [],
   "source": [
    "# 2. tuple() 用法"
   ]
  },
  {
   "cell_type": "code",
   "execution_count": 9,
   "metadata": {},
   "outputs": [
    {
     "data": {
      "text/plain": [
       "(1, 2, 3)"
      ]
     },
     "execution_count": 9,
     "metadata": {},
     "output_type": "execute_result"
    }
   ],
   "source": [
    "# list 转tuple\n",
    "b=(4,5,6)\n",
    "a=tuple([1,2,3])\n",
    "a"
   ]
  },
  {
   "cell_type": "code",
   "execution_count": 10,
   "metadata": {},
   "outputs": [
    {
     "data": {
      "text/plain": [
       "(1, 2, 3, 4, 5, 6)"
      ]
     },
     "execution_count": 10,
     "metadata": {},
     "output_type": "execute_result"
    }
   ],
   "source": [
    "# 增\n",
    "a+b #因为没有地址特性，所以a 自己仍然没变"
   ]
  },
  {
   "cell_type": "code",
   "execution_count": null,
   "metadata": {},
   "outputs": [],
   "source": [
    "# 3.list     有地址属性"
   ]
  },
  {
   "cell_type": "code",
   "execution_count": 52,
   "metadata": {},
   "outputs": [
    {
     "name": "stdout",
     "output_type": "stream",
     "text": [
      "[1, 2, 3] [1, 2, 3]\n"
     ]
    }
   ],
   "source": [
    "# 开辟复制\n",
    "a=[1,2,3]\n",
    "b=[i for i in a] #a交付给b之后,修改a对b没影响     \n",
    "print(a,b)"
   ]
  },
  {
   "cell_type": "code",
   "execution_count": 3,
   "metadata": {},
   "outputs": [
    {
     "data": {
      "text/plain": [
       "[[99, 0, 0], [99, 0, 0]]"
      ]
     },
     "execution_count": 3,
     "metadata": {},
     "output_type": "execute_result"
    }
   ],
   "source": [
    "#关于列表解析\n",
    "\n",
    "b=[[0]*3]*2   #乘法没有 for 好  \n",
    "# \n",
    "#  L = [[0] * 5 for i in range(5)] 可以这样写 列之间可以*，行的话*会带着旧的地址   列表初始化还是列，行都用for来创建好 \n",
    "#  b=[[0 for i in range(2)] for j in range(3)]   \n",
    "\n",
    "b[0][0]=99   #上和下两行地址绑定的  \n",
    "b"
   ]
  },
  {
   "cell_type": "code",
   "execution_count": 6,
   "metadata": {},
   "outputs": [
    {
     "data": {
      "text/plain": [
       "[[99, []], [[], []], [[], []]]"
      ]
     },
     "execution_count": 6,
     "metadata": {},
     "output_type": "execute_result"
    }
   ],
   "source": [
    "b=[[[] for i in range(2)] for j in range(3)]   \n",
    "b[0][0]=99\n",
    "b"
   ]
  },
  {
   "cell_type": "code",
   "execution_count": 4,
   "metadata": {},
   "outputs": [
    {
     "data": {
      "text/plain": [
       "([1, 2, 3], [1, 2, 3])"
      ]
     },
     "execution_count": 4,
     "metadata": {},
     "output_type": "execute_result"
    }
   ],
   "source": [
    "a=b=[1,2,3]\n",
    "a,b"
   ]
  },
  {
   "cell_type": "code",
   "execution_count": 5,
   "metadata": {},
   "outputs": [],
   "source": [
    "# a=a+[99]  #b没有被影响，这里相当于产生一个新的的a变量\n",
    "# a,b"
   ]
  },
  {
   "cell_type": "code",
   "execution_count": 8,
   "metadata": {},
   "outputs": [
    {
     "data": {
      "text/plain": [
       "([1, 2, 3, 99], [1, 2, 3, 99])"
      ]
     },
     "execution_count": 8,
     "metadata": {},
     "output_type": "execute_result"
    }
   ],
   "source": [
    "a.append(99)  #b也被影响了，否则用+\n",
    "a,b"
   ]
  },
  {
   "cell_type": "code",
   "execution_count": 31,
   "metadata": {},
   "outputs": [
    {
     "data": {
      "text/plain": [
       "[[0, 0], [0, 0], [0, 0]]"
      ]
     },
     "execution_count": 31,
     "metadata": {},
     "output_type": "execute_result"
    }
   ],
   "source": [
    "# 建立二维矩阵\n",
    "col=2\n",
    "row=3\n",
    "[[0 for i in range(col)] for i in range(row)]  #for 先建立列，然后行"
   ]
  },
  {
   "cell_type": "code",
   "execution_count": 36,
   "metadata": {},
   "outputs": [
    {
     "data": {
      "text/plain": [
       "[[], []]"
      ]
     },
     "execution_count": 36,
     "metadata": {},
     "output_type": "execute_result"
    }
   ],
   "source": [
    "b=[[] for i in range(col)]\n",
    "b"
   ]
  },
  {
   "cell_type": "code",
   "execution_count": 40,
   "metadata": {},
   "outputs": [
    {
     "data": {
      "text/plain": [
       "[[3, 3], []]"
      ]
     },
     "execution_count": 40,
     "metadata": {},
     "output_type": "execute_result"
    }
   ],
   "source": [
    "b[0].append(3)\n",
    "b"
   ]
  },
  {
   "cell_type": "code",
   "execution_count": 32,
   "metadata": {},
   "outputs": [],
   "source": [
    "# i   #这里输出i会出错，刚刚for 的 i 只是局部的"
   ]
  },
  {
   "cell_type": "code",
   "execution_count": 53,
   "metadata": {},
   "outputs": [],
   "source": [
    "# 删除\n",
    "\n",
    "# 按位置\n",
    "# del a[1]\n",
    "# a.pop(1)\n",
    "\n",
    "#按值\n",
    "# a.remove(value)"
   ]
  },
  {
   "cell_type": "code",
   "execution_count": 19,
   "metadata": {},
   "outputs": [
    {
     "data": {
      "text/plain": [
       "[[], [], [], []]"
      ]
     },
     "execution_count": 19,
     "metadata": {},
     "output_type": "execute_result"
    }
   ],
   "source": [
    "# \n",
    "a=[[] for i in range(4)]\n",
    "a"
   ]
  },
  {
   "cell_type": "code",
   "execution_count": 20,
   "metadata": {},
   "outputs": [
    {
     "data": {
      "text/plain": [
       "[[], 3, [], []]"
      ]
     },
     "execution_count": 20,
     "metadata": {},
     "output_type": "execute_result"
    }
   ],
   "source": [
    "a[1]=3\n",
    "a"
   ]
  },
  {
   "cell_type": "code",
   "execution_count": 21,
   "metadata": {},
   "outputs": [
    {
     "data": {
      "text/plain": [
       "[[], 3, [99], []]"
      ]
     },
     "execution_count": 21,
     "metadata": {},
     "output_type": "execute_result"
    }
   ],
   "source": [
    "a[2].append(99) #append也不影响其他人\n",
    "a"
   ]
  },
  {
   "cell_type": "code",
   "execution_count": 15,
   "metadata": {},
   "outputs": [
    {
     "data": {
      "text/plain": [
       "[1, 2, 3, 4, 99, 98]"
      ]
     },
     "execution_count": 15,
     "metadata": {},
     "output_type": "execute_result"
    }
   ],
   "source": [
    "a=[1,2,3,4]\n",
    "a+[99,98]   #+不含地址性"
   ]
  },
  {
   "cell_type": "code",
   "execution_count": 16,
   "metadata": {},
   "outputs": [
    {
     "data": {
      "text/plain": [
       "[1, 2, 3, 4]"
      ]
     },
     "execution_count": 16,
     "metadata": {},
     "output_type": "execute_result"
    }
   ],
   "source": [
    "a"
   ]
  },
  {
   "cell_type": "code",
   "execution_count": 45,
   "metadata": {},
   "outputs": [],
   "source": [
    "# 5.dict 字典"
   ]
  },
  {
   "cell_type": "code",
   "execution_count": 67,
   "metadata": {},
   "outputs": [
    {
     "data": {
      "text/plain": [
       "{'a': 1, 'b': 2}"
      ]
     },
     "execution_count": 67,
     "metadata": {},
     "output_type": "execute_result"
    }
   ],
   "source": [
    "a={'a':1,'b':2}\n",
    "a"
   ]
  },
  {
   "cell_type": "code",
   "execution_count": 68,
   "metadata": {},
   "outputs": [
    {
     "data": {
      "text/plain": [
       "{'a': 1, 'b': 2, 'c': 3}"
      ]
     },
     "execution_count": 68,
     "metadata": {},
     "output_type": "execute_result"
    }
   ],
   "source": [
    "# 增\n",
    "a['c']=3\n",
    "a"
   ]
  },
  {
   "cell_type": "code",
   "execution_count": 59,
   "metadata": {},
   "outputs": [
    {
     "data": {
      "text/plain": [
       "2"
      ]
     },
     "execution_count": 59,
     "metadata": {},
     "output_type": "execute_result"
    }
   ],
   "source": [
    "# 取value并改变\n",
    "a.get('b',0)  #取 key='b'的value，  如果没有，默认返回0"
   ]
  },
  {
   "cell_type": "code",
   "execution_count": null,
   "metadata": {},
   "outputs": [],
   "source": []
  },
  {
   "cell_type": "code",
   "execution_count": null,
   "metadata": {},
   "outputs": [],
   "source": []
  },
  {
   "cell_type": "code",
   "execution_count": null,
   "metadata": {},
   "outputs": [],
   "source": []
  },
  {
   "cell_type": "code",
   "execution_count": 17,
   "metadata": {},
   "outputs": [],
   "source": [
    "# 6.set()   哈西性质，类似 字典 的key\n"
   ]
  },
  {
   "cell_type": "code",
   "execution_count": 41,
   "metadata": {},
   "outputs": [
    {
     "data": {
      "text/plain": [
       "({5, 7}, {1, 2, 5})"
      ]
     },
     "execution_count": 41,
     "metadata": {},
     "output_type": "execute_result"
    }
   ],
   "source": [
    "a=set()  #空set\n",
    "a=set([5,7])   #list转set\n",
    "b=set([1,2,5])\n",
    "a,b"
   ]
  },
  {
   "cell_type": "code",
   "execution_count": 42,
   "metadata": {},
   "outputs": [
    {
     "data": {
      "text/plain": [
       "{5, 6, 7}"
      ]
     },
     "execution_count": 42,
     "metadata": {},
     "output_type": "execute_result"
    }
   ],
   "source": [
    "# 增\n",
    "a.add(6)  #有地址特性\n",
    "a"
   ]
  },
  {
   "cell_type": "code",
   "execution_count": 43,
   "metadata": {},
   "outputs": [],
   "source": [
    "#删除\n",
    "# a.remove(7) #o1 精确删除\n",
    "# a.discard(7) 若无此元素也不会error\n"
   ]
  },
  {
   "cell_type": "code",
   "execution_count": 44,
   "metadata": {},
   "outputs": [
    {
     "name": "stdout",
     "output_type": "stream",
     "text": [
      "{5, 6, 7} {1, 2, 5}\n",
      "{5}\n",
      "False\n",
      "{1, 2, 5, 6, 7}\n"
     ]
    }
   ],
   "source": [
    "# 两集关系\n",
    "print(a,b)\n",
    "print(a&b)\n",
    "print(a in b) #包含关系\n",
    "print(a|b) #求并集  #可以并了之后 赋给新变量，这样就相当于 集+集"
   ]
  },
  {
   "cell_type": "code",
   "execution_count": 1,
   "metadata": {},
   "outputs": [],
   "source": [
    "a=b=3"
   ]
  },
  {
   "cell_type": "code",
   "execution_count": 2,
   "metadata": {},
   "outputs": [
    {
     "data": {
      "text/plain": [
       "(3, 3)"
      ]
     },
     "execution_count": 2,
     "metadata": {},
     "output_type": "execute_result"
    }
   ],
   "source": [
    "a,b"
   ]
  },
  {
   "cell_type": "code",
   "execution_count": 4,
   "metadata": {},
   "outputs": [
    {
     "data": {
      "text/plain": [
       "([1, 2, 3], [1, 2, 3])"
      ]
     },
     "execution_count": 4,
     "metadata": {},
     "output_type": "execute_result"
    }
   ],
   "source": []
  },
  {
   "cell_type": "code",
   "execution_count": 5,
   "metadata": {},
   "outputs": [],
   "source": []
  },
  {
   "cell_type": "code",
   "execution_count": 6,
   "metadata": {},
   "outputs": [
    {
     "data": {
      "text/plain": [
       "([1, 2, 3, 99], [1, 2, 3, 99])"
      ]
     },
     "execution_count": 6,
     "metadata": {},
     "output_type": "execute_result"
    }
   ],
   "source": [
    "a,b"
   ]
  },
  {
   "cell_type": "code",
   "execution_count": 1,
   "metadata": {},
   "outputs": [],
   "source": [
    "# 7.heapq 堆\n",
    "import heapq as hp"
   ]
  },
  {
   "cell_type": "code",
   "execution_count": 9,
   "metadata": {},
   "outputs": [
    {
     "data": {
      "text/plain": [
       "([1, 5, 4, 6], 1)"
      ]
     },
     "execution_count": 9,
     "metadata": {},
     "output_type": "execute_result"
    }
   ],
   "source": [
    "heap=[4,5,1,6]\n",
    "hp.heapify(heap)\n",
    "heap,heap[0]#查看堆顶"
   ]
  },
  {
   "cell_type": "code",
   "execution_count": 10,
   "metadata": {},
   "outputs": [
    {
     "data": {
      "text/plain": [
       "[4, 5, 6]"
      ]
     },
     "execution_count": 10,
     "metadata": {},
     "output_type": "execute_result"
    }
   ],
   "source": [
    "hp.heappop(heap)\n",
    "heap"
   ]
  },
  {
   "cell_type": "code",
   "execution_count": 18,
   "metadata": {},
   "outputs": [],
   "source": [
    "a=[1,2,3]\n",
    "b=[i*-1 for i in a]"
   ]
  },
  {
   "cell_type": "code",
   "execution_count": 19,
   "metadata": {},
   "outputs": [
    {
     "data": {
      "text/plain": [
       "[-1, -2, -3]"
      ]
     },
     "execution_count": 19,
     "metadata": {},
     "output_type": "execute_result"
    }
   ],
   "source": [
    "b"
   ]
  },
  {
   "cell_type": "code",
   "execution_count": 21,
   "metadata": {},
   "outputs": [],
   "source": [
    "hp.heapify([])#空不会出错"
   ]
  },
  {
   "cell_type": "code",
   "execution_count": 25,
   "metadata": {},
   "outputs": [
    {
     "data": {
      "text/plain": [
       "[]"
      ]
     },
     "execution_count": 25,
     "metadata": {},
     "output_type": "execute_result"
    }
   ],
   "source": [
    "x=[i*(-1) for i in []]\n",
    "x"
   ]
  },
  {
   "cell_type": "code",
   "execution_count": 26,
   "metadata": {},
   "outputs": [
    {
     "ename": "IndexError",
     "evalue": "list index out of range",
     "output_type": "error",
     "traceback": [
      "\u001b[1;31m---------------------------------------------------------------------------\u001b[0m",
      "\u001b[1;31mIndexError\u001b[0m                                Traceback (most recent call last)",
      "\u001b[1;32m<ipython-input-26-2f755f117ac9>\u001b[0m in \u001b[0;36m<module>\u001b[1;34m\u001b[0m\n\u001b[1;32m----> 1\u001b[1;33m \u001b[0mx\u001b[0m\u001b[1;33m[\u001b[0m\u001b[1;36m0\u001b[0m\u001b[1;33m]\u001b[0m\u001b[1;33m\u001b[0m\u001b[1;33m\u001b[0m\u001b[0m\n\u001b[0m",
      "\u001b[1;31mIndexError\u001b[0m: list index out of range"
     ]
    }
   ],
   "source": [
    "x[0]#注意，空list不能给下标"
   ]
  },
  {
   "cell_type": "code",
   "execution_count": 27,
   "metadata": {},
   "outputs": [
    {
     "data": {
      "text/plain": [
       "0"
      ]
     },
     "execution_count": 27,
     "metadata": {},
     "output_type": "execute_result"
    }
   ],
   "source": [
    "int(0.5)"
   ]
  },
  {
   "cell_type": "code",
   "execution_count": 10,
   "metadata": {},
   "outputs": [],
   "source": [
    "class Solution:\n",
    "    def Fibonacci(self, n):\n",
    "        # write code here\n",
    "        if n==0:\n",
    "            return 0\n",
    "        a=[1]\n",
    "        while len(a)<n:\n",
    "            a.append(a[-1]+a[-2])\n",
    "            \n",
    "        return a[-1]"
   ]
  },
  {
   "cell_type": "code",
   "execution_count": null,
   "metadata": {},
   "outputs": [],
   "source": []
  }
 ],
 "metadata": {
  "kernelspec": {
   "display_name": "Python 3",
   "language": "python",
   "name": "python3"
  },
  "language_info": {
   "codemirror_mode": {
    "name": "ipython",
    "version": 3
   },
   "file_extension": ".py",
   "mimetype": "text/x-python",
   "name": "python",
   "nbconvert_exporter": "python",
   "pygments_lexer": "ipython3",
   "version": "3.6.7"
  }
 },
 "nbformat": 4,
 "nbformat_minor": 2
}
