{
 "cells": [
  {
   "cell_type": "code",
   "execution_count": null,
   "metadata": {},
   "outputs": [],
   "source": []
  },
  {
   "cell_type": "code",
   "execution_count": 19,
   "metadata": {},
   "outputs": [],
   "source": [
    "# 读\n",
    "exam1='123,4,67' #只需逗号分隔，map为int即可\n",
    "exam2='A={1,2,345},B={6,78,9},R=109'   #主要想获得\n",
    "exam3='% ^^  123-56mg--m-2g --'  #-是做连续符号，--是做分隔，要统计连续个数好麻烦，可以将2个以上的那个-串换成空格"
   ]
  },
  {
   "cell_type": "code",
   "execution_count": 20,
   "metadata": {},
   "outputs": [
    {
     "data": {
      "text/plain": [
       "[123, 4, 67]"
      ]
     },
     "execution_count": 20,
     "metadata": {},
     "output_type": "execute_result"
    }
   ],
   "source": [
    "# 1  用split 分掉关键词，然后切片固定位置  \n",
    "list(map(int,exam1.strip().split(',')))   # map 也可以做str\n"
   ]
  },
  {
   "cell_type": "code",
   "execution_count": 21,
   "metadata": {},
   "outputs": [
    {
     "data": {
      "text/plain": [
       "('1,2,345', '6,78,9', '109')"
      ]
     },
     "execution_count": 21,
     "metadata": {},
     "output_type": "execute_result"
    }
   ],
   "source": [
    "# 2  先遍历一遍 ，先定位 { } { }和R \n",
    "\n",
    "loca=[]  #处理数量不定的东西最好用 list append\n",
    "\n",
    "for i in range(len(exam2)):\n",
    "    if exam2[i] in ['{','}','R']:\n",
    "        loca.append(i)\n",
    "\n",
    "A=exam2[loca[0]+1:loca[1]]\n",
    "B=exam2[loca[2]+1:loca[3]]\n",
    "R=exam2[loca[4]+2:]\n",
    "A,B,R"
   ]
  },
  {
   "cell_type": "code",
   "execution_count": 22,
   "metadata": {},
   "outputs": [
    {
     "data": {
      "text/plain": [
       "([1, 2, 345], [1, 2, 345])"
      ]
     },
     "execution_count": 22,
     "metadata": {},
     "output_type": "execute_result"
    }
   ],
   "source": [
    "A_=list(map(int,A.split(',')))\n",
    "B_=list(map(int,A.split(',')))\n",
    "A_,B_"
   ]
  },
  {
   "cell_type": "code",
   "execution_count": 26,
   "metadata": {},
   "outputs": [
    {
     "data": {
      "text/plain": [
       "'% ^^  123-56mg m-2g  '"
      ]
     },
     "execution_count": 26,
     "metadata": {},
     "output_type": "execute_result"
    }
   ],
   "source": [
    "# 3.  用replace换东西\n",
    "exam3_=exam3.replace('--',' ') #如果没有连续3个及以上的 - 可以替换成空格减轻 分类负担  , replace后面还可以加个 整数 表示不超过多少次替换\n",
    "exam3_\n"
   ]
  },
  {
   "cell_type": "code",
   "execution_count": null,
   "metadata": {},
   "outputs": [],
   "source": [
    "# 4 缓存思想\n",
    "# 遇到   (1)有效数字则存缓存      遇到(2)垃圾符号，则把缓存数据 append到结果去\n",
    "\n"
   ]
  },
  {
   "cell_type": "code",
   "execution_count": 32,
   "metadata": {},
   "outputs": [
    {
     "name": "stdout",
     "output_type": "stream",
     "text": [
      "True\n",
      "False\n"
     ]
    }
   ],
   "source": [
    "# 5 正则化找东西\n",
    "\n",
    "a='conv2d'  \n",
    "print(a.find('v2d')!=-1)   #find 是查到就返回第一个的 所以作用不大\n",
    "print(a.find('v^d')!=-1)"
   ]
  },
  {
   "cell_type": "code",
   "execution_count": 31,
   "metadata": {},
   "outputs": [
    {
     "data": {
      "text/plain": [
       "False"
      ]
     },
     "execution_count": 31,
     "metadata": {},
     "output_type": "execute_result"
    }
   ],
   "source": [
    "not -1 "
   ]
  },
  {
   "cell_type": "code",
   "execution_count": 87,
   "metadata": {},
   "outputs": [
    {
     "data": {
      "text/plain": [
       "[]"
      ]
     },
     "execution_count": 87,
     "metadata": {},
     "output_type": "execute_result"
    }
   ],
   "source": [
    "import re\n",
    "#模式匹配\n",
    "#.指的是任意字符0次或1次  *表示前一个符号出现0次或无限次(有多少要多少)   ?表示前面一个是0或1次   匹配到之后只返回 ( ) 里面的\n",
    "# 等价于找 { .*? } 表示  {.*} 整个大括号 出现0次或多次 {.*}  {.*} ={.....}  {.....}   点. 出现0次或者多次\n",
    "\n",
    "re.findall('\\{(.*?)\\}',exam2) #有?表示贪心做法"
   ]
  },
  {
   "cell_type": "code",
   "execution_count": 46,
   "metadata": {},
   "outputs": [
    {
     "data": {
      "text/plain": [
       "['1,2,345},B={6,78,9']"
      ]
     },
     "execution_count": 46,
     "metadata": {},
     "output_type": "execute_result"
    }
   ],
   "source": [
    "re.findall('\\{(.*)\\}',exam2)"
   ]
  },
  {
   "cell_type": "code",
   "execution_count": 81,
   "metadata": {},
   "outputs": [
    {
     "data": {
      "text/plain": [
       "['---', '----', '--']"
      ]
     },
     "execution_count": 81,
     "metadata": {},
     "output_type": "execute_result"
    }
   ],
   "source": [
    "exam4='13-5---m-2g ---- 12--45'\n",
    "re.findall('-*--',exam4)  # "
   ]
  },
  {
   "cell_type": "code",
   "execution_count": 80,
   "metadata": {},
   "outputs": [
    {
     "data": {
      "text/plain": [
       "[(4, 7), (12, 16), (19, 21)]"
      ]
     },
     "execution_count": 80,
     "metadata": {},
     "output_type": "execute_result"
    }
   ],
   "source": [
    "# 用 缓存 思维做计数   思维简单，但空间开销大\n",
    "\n",
    "tem=[]\n",
    "huancun=1 #就像是半径\n",
    "\n",
    "for i in range(len(exam4)):\n",
    "    if exam4[i]=='-':\n",
    "        huancun+=1\n",
    "    else:\n",
    "        if huancun!=0:#前面有-符号 看是否连续\n",
    "            if huancun>=2:\n",
    "                \n",
    "                tem.append((i-huancun,i))\n",
    "        huancun=0\n",
    "tem\n",
    "# 前面是指着第一个-  后面是指结尾-的下一个非-  \n",
    "# 拿着这些跳开--读 用空格代替"
   ]
  },
  {
   "cell_type": "code",
   "execution_count": 106,
   "metadata": {},
   "outputs": [
    {
     "data": {
      "text/plain": [
       "'13-5 m-2g   12 '"
      ]
     },
     "execution_count": 106,
     "metadata": {},
     "output_type": "execute_result"
    }
   ],
   "source": [
    "exam4='13-5---m-2g ---- 12--45'\n",
    "new=''\n",
    "k=0\n",
    "for i,j in tem:\n",
    "    new+=exam4[k:i]+' '\n",
    "    k=j\n",
    "new\n",
    "    "
   ]
  },
  {
   "cell_type": "code",
   "execution_count": 73,
   "metadata": {},
   "outputs": [],
   "source": [
    "# 用跟随指针做计数\n",
    "\n",
    "# 前后指针 j i    i是for指针  j是跟随i  i用于探路\n",
    "# 跟随指针写法(统计连续元素)\n",
    "# (1)初始i=0 j=0  如果i,j不等 则j=i，跟上i 如果计数器有东西>1，说明有连续的符号，输出然后置1   (2)如果j=i  则j不动 cnt+1\n",
    "\n",
    "# 指定统计-的重复性\n",
    "# 高级一下   如果i=-，且j!=i时候，j跟上i  开始计时状态    如果 j= - 且 i!=- 结束计时 记下i-j 然后j跟上i \n"
   ]
  },
  {
   "cell_type": "code",
   "execution_count": 86,
   "metadata": {},
   "outputs": [
    {
     "name": "stdout",
     "output_type": "stream",
     "text": [
      "2 2 进入1\n",
      "3 2 进入2\n",
      "1\n",
      "4 4 进入1\n",
      "7 4 进入2\n",
      "3\n",
      "8 8 进入1\n",
      "9 8 进入2\n",
      "1\n",
      "12 12 进入1\n",
      "16 12 进入2\n",
      "4\n",
      "19 19 进入1\n",
      "21 19 进入2\n",
      "2\n"
     ]
    }
   ],
   "source": [
    "exam4='13-5---m-2g ---- 12--45'\n",
    "j=0  #j=-的时候是在计数状态\n",
    "for i in range(len(exam4)):\n",
    "    if exam4[i]=='-' and exam4[j]!='-':\n",
    "        j=i #发现- 但j没在计数  于是j跟上\n",
    "        print(i,j,'进入1')\n",
    "    if exam4[i]!='-' and exam4[j]=='-': #结束  前面没有-了，但j在计数   输出然后再跟上\n",
    "        print(i,j,'进入2')\n",
    "        print(i-j)\n",
    "        j=i\n",
    "#然后根据连续性，再把 作为分隔符的多个 - replace掉"
   ]
  },
  {
   "cell_type": "code",
   "execution_count": 100,
   "metadata": {},
   "outputs": [
    {
     "data": {
      "text/plain": [
       "['34', ' 335 4']"
      ]
     },
     "execution_count": 100,
     "metadata": {},
     "output_type": "execute_result"
    }
   ],
   "source": [
    "re.findall('.*?4','34 335 4')"
   ]
  },
  {
   "cell_type": "code",
   "execution_count": 101,
   "metadata": {},
   "outputs": [
    {
     "data": {
      "text/plain": [
       "['34 335 4']"
      ]
     },
     "execution_count": 101,
     "metadata": {},
     "output_type": "execute_result"
    }
   ],
   "source": [
    "re.findall('.*4','34 335 4')   # .*? 比 .* 要贪心"
   ]
  },
  {
   "cell_type": "code",
   "execution_count": 102,
   "metadata": {},
   "outputs": [
    {
     "data": {
      "text/plain": [
       "True"
      ]
     },
     "execution_count": 102,
     "metadata": {},
     "output_type": "execute_result"
    }
   ],
   "source": [
    "'123'.isdigit() #判断是否数字"
   ]
  },
  {
   "cell_type": "code",
   "execution_count": 103,
   "metadata": {},
   "outputs": [
    {
     "data": {
      "text/plain": [
       "True"
      ]
     },
     "execution_count": 103,
     "metadata": {},
     "output_type": "execute_result"
    }
   ],
   "source": [
    "'B'.isalpha()   #"
   ]
  },
  {
   "cell_type": "code",
   "execution_count": 104,
   "metadata": {},
   "outputs": [
    {
     "data": {
      "text/plain": [
       "True"
      ]
     },
     "execution_count": 104,
     "metadata": {},
     "output_type": "execute_result"
    }
   ],
   "source": [
    "'123B'.isalnum()  "
   ]
  },
  {
   "cell_type": "code",
   "execution_count": 119,
   "metadata": {},
   "outputs": [
    {
     "data": {
      "text/plain": [
       "'a'"
      ]
     },
     "execution_count": 119,
     "metadata": {},
     "output_type": "execute_result"
    }
   ],
   "source": [
    "'A'.lower()"
   ]
  },
  {
   "cell_type": "code",
   "execution_count": 120,
   "metadata": {},
   "outputs": [
    {
     "data": {
      "text/plain": [
       "'A'"
      ]
     },
     "execution_count": 120,
     "metadata": {},
     "output_type": "execute_result"
    }
   ],
   "source": [
    "'a'.upper()"
   ]
  },
  {
   "cell_type": "code",
   "execution_count": 109,
   "metadata": {},
   "outputs": [
    {
     "data": {
      "text/plain": [
       "'12'"
      ]
     },
     "execution_count": 109,
     "metadata": {},
     "output_type": "execute_result"
    }
   ],
   "source": [
    "a='123'\n",
    "a[:-1]\n"
   ]
  },
  {
   "cell_type": "code",
   "execution_count": 118,
   "metadata": {},
   "outputs": [
    {
     "name": "stdout",
     "output_type": "stream",
     "text": [
      "ello word\n",
      "ello word#h\n",
      "llo word#\n",
      "llo word#eh\n",
      "lo word#e\n",
      "lo word#leh\n",
      "o word#le\n",
      "o word#lleh\n",
      " word#lle\n",
      " word#olleh\n",
      "word#olle\n",
      "word# olleh\n",
      "ord# olle\n",
      "ord#w olleh\n",
      "rd#w olle\n",
      "rd#ow olleh\n",
      "d#ow olle\n",
      "d#row olleh\n",
      "#row olle\n",
      "#drow olleh\n"
     ]
    },
    {
     "data": {
      "text/plain": [
       "'drow olleh'"
      ]
     },
     "execution_count": 118,
     "metadata": {},
     "output_type": "execute_result"
    }
   ],
   "source": [
    "class Reverse:\n",
    "    def reverseString(self, iniString):\n",
    "        # write code here\n",
    "        iniString+='#'\n",
    "        i=len(iniString)-1\n",
    "        chang=len(iniString)\n",
    "        while iniString[0]!='#':\n",
    "            print(iniString[1:-1])\n",
    "            iniString=iniString[1:i+1]+iniString[0]+iniString[i+1:]\n",
    "            print(iniString)\n",
    "            i=i-1\n",
    "        return iniString[1:]\n",
    "a=Reverse()\n",
    "a.reverseString('hello word')\n",
    "#最重要指着# 的针"
   ]
  },
  {
   "cell_type": "code",
   "execution_count": null,
   "metadata": {},
   "outputs": [],
   "source": [
    "# 识别特殊连续的标号\n",
    "\n"
   ]
  },
  {
   "cell_type": "code",
   "execution_count": 137,
   "metadata": {},
   "outputs": [
    {
     "name": "stdout",
     "output_type": "stream",
     "text": [
      "[1, 4]\n",
      " 0 1\n",
      "AB 3 4\n",
      "ABCD\n"
     ]
    },
    {
     "data": {
      "text/plain": [
       "'ABCDF'"
      ]
     },
     "execution_count": 137,
     "metadata": {},
     "output_type": "execute_result"
    }
   ],
   "source": [
    "#字符串替换\n",
    "class StringFormat:\n",
    "    def formatString(self, A, n, arg):\n",
    "        # write code here\n",
    "        result=''\n",
    "        \n",
    "        lo=[]\n",
    "        for i in range(len(A)):\n",
    "            if A[i]=='%' and A[i+1]=='s':\n",
    "                lo.append(i)\n",
    "        if len(lo)>len(arg):\n",
    "            return False\n",
    "        k=0\n",
    "        print(lo)\n",
    "        for j in range(len(lo)):\n",
    "            print(result,k,lo[j])\n",
    "            result+=A[k:lo[j]]\n",
    "            result+=arg[j]\n",
    "            \n",
    "            k=lo[j]+2\n",
    "        print(result)\n",
    "        for n in range(len(lo),len(arg)):\n",
    "            result+=arg[n]\n",
    "        \n",
    "        return result\n",
    "    \n",
    "a=StringFormat()\n",
    "a.formatString(\"A%sC%sE\",7,['B','D','F'])"
   ]
  },
  {
   "cell_type": "code",
   "execution_count": null,
   "metadata": {},
   "outputs": [],
   "source": [
    "# 这种要修改其中某一个值，比如 %s 去掉，换成候选\n",
    "# 用replace\n",
    "# 处理字符串不要吝啬 用 in\n",
    "# %s 换成其他东西\n",
    "class StringFormat:\n",
    "    def formatString(self, A, n, arg, m):\n",
    "        while \"%s\" in A and len(arg)>0: #while 效率不高，先遍历一次看有多少个%c 然后就replace多少次。这样不用重复查询这么多次  \n",
    "            A=A.replace(\"%s\",arg.pop(0),1) #从左到右，每次只匹配最左边那个\n",
    "        return A+\"\".join(arg)\n",
    "# On 查询%s个数\n",
    "# replace 次数 顶多 On  加起来就O2n\n",
    "# "
   ]
  },
  {
   "cell_type": "code",
   "execution_count": 138,
   "metadata": {},
   "outputs": [
    {
     "data": {
      "text/plain": [
       "'abcd'"
      ]
     },
     "execution_count": 138,
     "metadata": {},
     "output_type": "execute_result"
    }
   ],
   "source": [
    "a=['a','b','c','d']\n",
    "''.join(a) #取出分别取出然后，一个一个拼到字符串后边    以后多用join 代替 +"
   ]
  },
  {
   "cell_type": "code",
   "execution_count": 149,
   "metadata": {},
   "outputs": [
    {
     "data": {
      "text/plain": [
       "['HH', '', 'HHHH', '']"
      ]
     },
     "execution_count": 149,
     "metadata": {},
     "output_type": "execute_result"
    }
   ],
   "source": [
    "re.findall('H*','HH2HHHH')"
   ]
  },
  {
   "cell_type": "code",
   "execution_count": null,
   "metadata": {},
   "outputs": [],
   "source": []
  },
  {
   "cell_type": "code",
   "execution_count": null,
   "metadata": {},
   "outputs": [],
   "source": [
    "# 给定一个仅由小写字母x和y组成且长度不超过105的字符串，\n",
    "# 每次可以将字符串中的一个子串xy替换成字符串yyx，那么至少要替换多少次才能让字符串中不存在子串xy？\n",
    "# 出现至少，我又想起 回溯 \n",
    "# 要么 观察性质  本质就是X向后移动,\n",
    "\n"
   ]
  },
  {
   "cell_type": "code",
   "execution_count": null,
   "metadata": {},
   "outputs": [],
   "source": [
    "cnt\n",
    "low=0#记录最右边y的位置\n",
    "for i in range(len(a)-1,-1,-1):\n",
    "    if a[i]=='y':\n",
    "        low=i\n",
    "        break\n",
    "for j in range(low,-1,-1):\n",
    "    if low[]\n",
    "        \n",
    "        "
   ]
  },
  {
   "cell_type": "code",
   "execution_count": 151,
   "metadata": {},
   "outputs": [
    {
     "data": {
      "text/plain": [
       "2"
      ]
     },
     "execution_count": 151,
     "metadata": {},
     "output_type": "execute_result"
    }
   ],
   "source": [
    "[1,2,3].pop(1)"
   ]
  },
  {
   "cell_type": "code",
   "execution_count": null,
   "metadata": {},
   "outputs": [],
   "source": [
    "#输入包括两行,第一行一个字符串s,字符串s长度length(1 ≤ length ≤ 50),s中每个字符都是小写字母\n",
    "#第二行一个字符串t,字符串t长度length(1 ≤ length ≤ 50),t中每个字符都是小写字母\n",
    "# 输出一个字符串,即可以得到的字典序最大字符串"
   ]
  },
  {
   "cell_type": "code",
   "execution_count": 156,
   "metadata": {},
   "outputs": [],
   "source": [
    "import heapq as hp\n",
    "a=['a','g','c','b']\n",
    "hp.heapify(a)"
   ]
  },
  {
   "cell_type": "code",
   "execution_count": 157,
   "metadata": {},
   "outputs": [
    {
     "data": {
      "text/plain": [
       "['a', 'b', 'c', 'g']"
      ]
     },
     "execution_count": 157,
     "metadata": {},
     "output_type": "execute_result"
    }
   ],
   "source": [
    "a"
   ]
  },
  {
   "cell_type": "code",
   "execution_count": 158,
   "metadata": {},
   "outputs": [
    {
     "data": {
      "text/plain": [
       "['a', 'b', 'c', 'g']"
      ]
     },
     "execution_count": 158,
     "metadata": {},
     "output_type": "execute_result"
    }
   ],
   "source": [
    "sorted(a)"
   ]
  },
  {
   "cell_type": "code",
   "execution_count": 162,
   "metadata": {},
   "outputs": [],
   "source": [
    "b=[10,3,16,7,3]\n",
    "b=sorted(b)\n"
   ]
  },
  {
   "cell_type": "code",
   "execution_count": 191,
   "metadata": {},
   "outputs": [],
   "source": [
    "# 字典序最大的字符串是什么\n",
    "s='ittmcsvmoa'\n",
    "t='jktvvblefw'\n",
    "#s_list=[(s[i],i) for i in range(len(s))]\n",
    "s_list=list(s)\n",
    "#t_list=[(t[i],i) for i in range(len(t))]\n",
    "low_s=sorted(s_list)\n",
    "low_t=sorted(t,reverse=True)"
   ]
  },
  {
   "cell_type": "code",
   "execution_count": 192,
   "metadata": {},
   "outputs": [
    {
     "name": "stdout",
     "output_type": "stream",
     "text": [
      "2 ['w', 'v', 'v', 't', 'l', 'k', 'j', 'f', 'e', 'b'] i\n",
      "2 ['v', 'v', 't', 'l', 'k', 'j', 'f', 'e', 'b'] t\n",
      "2 ['v', 't', 'l', 'k', 'j', 'f', 'e', 'b'] t\n",
      "2 ['t', 'l', 'k', 'j', 'f', 'e', 'b'] m\n",
      "2 ['l', 'k', 'j', 'f', 'e', 'b'] c\n",
      "2 ['k', 'j', 'f', 'e', 'b'] a\n",
      "wvvtlsvmok\n"
     ]
    }
   ],
   "source": [
    "s_list=list(s)\n",
    "t_list=list(t)\n",
    "big_t=sorted(t_list,reverse=True) #True是大到小\n",
    "\n",
    "for i in range(len(s_list)):\n",
    "    if not big_t:\n",
    "        break\n",
    "    if big_t[0]>s_list[i]:\n",
    "        print('2',big_t,s_list[i])\n",
    "        s_list[i]=big_t.pop(0)\n",
    "print(''.join(s_list)) #join   list变 str"
   ]
  },
  {
   "cell_type": "code",
   "execution_count": 184,
   "metadata": {},
   "outputs": [
    {
     "data": {
      "text/plain": [
       "(['a', 'b', 'c', 'd', 'e', 'f'], ['e', 'e'])"
      ]
     },
     "execution_count": 184,
     "metadata": {},
     "output_type": "execute_result"
    }
   ],
   "source": [
    "low_s,low_t"
   ]
  },
  {
   "cell_type": "code",
   "execution_count": 185,
   "metadata": {},
   "outputs": [
    {
     "data": {
      "text/plain": [
       "True"
      ]
     },
     "execution_count": 185,
     "metadata": {},
     "output_type": "execute_result"
    }
   ],
   "source": [
    "'aa'<'ab' #这就是字典序，就是高位权重更大  "
   ]
  },
  {
   "cell_type": "code",
   "execution_count": 186,
   "metadata": {},
   "outputs": [
    {
     "name": "stdout",
     "output_type": "stream",
     "text": [
      "d e\n",
      "c e\n"
     ]
    },
    {
     "data": {
      "text/plain": [
       "['f', 'e', 'e', 'e', 'b', 'a']"
      ]
     },
     "execution_count": 186,
     "metadata": {},
     "output_type": "execute_result"
    }
   ],
   "source": [
    "for i in range(len(s_list)):\n",
    "        if not low_t:\n",
    "            break\n",
    "        if low_t[-1] >s_list[i]:     # 候选的最大值>该位\n",
    "            print(s[i],low_t[-1])\n",
    "            s_list[i]=low_t.pop()\n",
    "s_list"
   ]
  },
  {
   "cell_type": "code",
   "execution_count": 178,
   "metadata": {},
   "outputs": [
    {
     "data": {
      "text/plain": [
       "['a', 'c']"
      ]
     },
     "execution_count": 178,
     "metadata": {},
     "output_type": "execute_result"
    }
   ],
   "source": [
    "a=['a','b']\n",
    "a[1]='c'\n",
    "a"
   ]
  },
  {
   "cell_type": "code",
   "execution_count": 193,
   "metadata": {},
   "outputs": [
    {
     "ename": "IndexError",
     "evalue": "list index out of range",
     "output_type": "error",
     "traceback": [
      "\u001b[1;31m---------------------------------------------------------------------------\u001b[0m",
      "\u001b[1;31mIndexError\u001b[0m                                Traceback (most recent call last)",
      "\u001b[1;32m<ipython-input-193-37c312d0e00c>\u001b[0m in \u001b[0;36m<module>\u001b[1;34m\u001b[0m\n\u001b[0;32m      4\u001b[0m \u001b[0mq\u001b[0m\u001b[1;33m=\u001b[0m\u001b[1;33m[\u001b[0m\u001b[1;33m]\u001b[0m\u001b[1;33m\u001b[0m\u001b[1;33m\u001b[0m\u001b[0m\n\u001b[0;32m      5\u001b[0m \u001b[0ma\u001b[0m\u001b[1;33m=\u001b[0m\u001b[1;34m'b'\u001b[0m\u001b[1;33m\u001b[0m\u001b[1;33m\u001b[0m\u001b[0m\n\u001b[1;32m----> 6\u001b[1;33m \u001b[0mq\u001b[0m\u001b[1;33m[\u001b[0m\u001b[1;33m-\u001b[0m\u001b[1;36m1\u001b[0m\u001b[1;33m]\u001b[0m\u001b[1;33m==\u001b[0m\u001b[0ma\u001b[0m\u001b[1;33m\u001b[0m\u001b[1;33m\u001b[0m\u001b[0m\n\u001b[0m",
      "\u001b[1;31mIndexError\u001b[0m: list index out of range"
     ]
    }
   ],
   "source": [
    "# 完成括号匹配   添加最少数量的括号   是贪心吗\n",
    "# 不只是识别，而且要知道在哪插入，我猜是就近原则\n",
    "# 用栈来做\n",
    "# 如何在list其中插入一些符号\n",
    "q=[]\n",
    "a='b'\n"
   ]
  },
  {
   "cell_type": "code",
   "execution_count": 194,
   "metadata": {},
   "outputs": [
    {
     "name": "stdout",
     "output_type": "stream",
     "text": [
      "(0, 'a')\n",
      "(1, 'b')\n",
      "(2, 'c')\n"
     ]
    }
   ],
   "source": [
    "for i in enumerate(['a','b','c']):\n",
    "    print(i)"
   ]
  },
  {
   "cell_type": "code",
   "execution_count": 215,
   "metadata": {},
   "outputs": [
    {
     "name": "stdout",
     "output_type": "stream",
     "text": [
      "for开始 []\n",
      "for开始 ['[']\n",
      "]]\n"
     ]
    }
   ],
   "source": [
    "chrs='[['\n",
    "\n",
    "que=[]\n",
    "\n",
    "for i in chrs:\n",
    "    print('for开始',que)\n",
    "    if not que :   #que为空\n",
    "        que.append(i) #空的就进来\n",
    "    else:#非空\n",
    "        if que[-1]==i:#相等符号\n",
    "            que.append(i)\n",
    "        else:#符号不同\n",
    "            if que[-1]=='[' and i==']':\n",
    "                que.pop()\n",
    "            else:\n",
    "                que.append(i)\n",
    "result=''\n",
    "\n",
    "while que:\n",
    "    if que[-1]=='[':\n",
    "        result+=']'\n",
    "        que.pop()\n",
    "    else:\n",
    "        result='['+result\n",
    "        que.pop()\n",
    "print(result)"
   ]
  },
  {
   "cell_type": "code",
   "execution_count": 198,
   "metadata": {},
   "outputs": [
    {
     "data": {
      "text/plain": [
       "[(0, '[')]"
      ]
     },
     "execution_count": 198,
     "metadata": {},
     "output_type": "execute_result"
    }
   ],
   "source": [
    "que"
   ]
  },
  {
   "cell_type": "code",
   "execution_count": 199,
   "metadata": {},
   "outputs": [
    {
     "data": {
      "text/plain": [
       "[(2, ']'), (3, '['), (9, '[')]"
      ]
     },
     "execution_count": 199,
     "metadata": {},
     "output_type": "execute_result"
    }
   ],
   "source": [
    "a=[(3,'['),(2,']'),(9,'[')]\n",
    "sorted(a)"
   ]
  },
  {
   "cell_type": "code",
   "execution_count": 200,
   "metadata": {},
   "outputs": [
    {
     "data": {
      "text/plain": [
       "['[', '[', ']', ']']"
      ]
     },
     "execution_count": 200,
     "metadata": {},
     "output_type": "execute_result"
    }
   ],
   "source": [
    "a=['[',']',']','[']\n",
    "sorted(a)"
   ]
  },
  {
   "cell_type": "code",
   "execution_count": 202,
   "metadata": {},
   "outputs": [
    {
     "data": {
      "text/plain": [
       "deque([1, 5, 3, 2])"
      ]
     },
     "execution_count": 202,
     "metadata": {},
     "output_type": "execute_result"
    }
   ],
   "source": [
    "# 两边插入 用 字符串\n",
    "import collections as coll\n",
    "a=coll.deque([1,5,3,2])\n",
    "a"
   ]
  },
  {
   "cell_type": "code",
   "execution_count": 204,
   "metadata": {},
   "outputs": [
    {
     "data": {
      "text/plain": [
       "deque([10, 10, 1, 5, 3, 2])"
      ]
     },
     "execution_count": 204,
     "metadata": {},
     "output_type": "execute_result"
    }
   ],
   "source": [
    "a.appendleft(10)\n",
    "a"
   ]
  },
  {
   "cell_type": "code",
   "execution_count": 206,
   "metadata": {},
   "outputs": [
    {
     "data": {
      "text/plain": [
       "[10, 10, 1, 5, 3, 2]"
      ]
     },
     "execution_count": 206,
     "metadata": {},
     "output_type": "execute_result"
    }
   ],
   "source": [
    "list(a)"
   ]
  },
  {
   "cell_type": "code",
   "execution_count": null,
   "metadata": {},
   "outputs": [],
   "source": [
    "#中间插入，左右两边插入，还是用 字符串''好做"
   ]
  },
  {
   "cell_type": "code",
   "execution_count": null,
   "metadata": {},
   "outputs": [],
   "source": [
    "# 字典序最大的子序列\n",
    "\n"
   ]
  },
  {
   "cell_type": "code",
   "execution_count": 216,
   "metadata": {},
   "outputs": [
    {
     "data": {
      "text/plain": [
       "[1, 3, 6, 10]"
      ]
     },
     "execution_count": 216,
     "metadata": {},
     "output_type": "execute_result"
    }
   ],
   "source": [
    "a=[1,6,3,10]\n",
    "sorted(a)"
   ]
  },
  {
   "cell_type": "code",
   "execution_count": 218,
   "metadata": {},
   "outputs": [
    {
     "name": "stdout",
     "output_type": "stream",
     "text": [
      "xple\n"
     ]
    }
   ],
   "source": [
    "#对于字符串x和y, 如果擦除x中的某些字母(有可能全擦掉或者都不擦)能够得到y,我们就称y是x的子序列。\n",
    "#例如.\"ncd\"是\"nowcoder\"的子序列,而\"xt\"不是。\n",
    "#现在对于给定的一个字符串s,请计算出字典序最大的s的子序列。\n",
    "\n",
    "# 其实就是在找递减子序列\n",
    "\n",
    "testt='example'\n",
    "test=list(testt)#输入的list\n",
    "test_ord=sorted(test,reverse=True)#先排序  大到小\n",
    "ans=[]\n",
    "#左边还不是最大值，那就pop(0)\n",
    "\n",
    "for i in range(len(test)):\n",
    "    if test[i]==test_ord[0]:#这个位时最大值\n",
    "        ans.append(test[i])\n",
    "    test_ord.remove(test[i])\n",
    "        \n",
    "        \n",
    "print(''.join(ans))"
   ]
  },
  {
   "cell_type": "code",
   "execution_count": 221,
   "metadata": {},
   "outputs": [
    {
     "name": "stdout",
     "output_type": "stream",
     "text": [
      "xple\n"
     ]
    }
   ],
   "source": [
    "s='example'\n",
    "def solution(s):\n",
    "    n=0\n",
    "    res=[]\n",
    "    while s != []:\n",
    "        res.append(max(s))#答案不断从剩下序列的最大值取\n",
    "        n=s.index(max(s))#取得最大值的下标\n",
    "        s=s[n+1:]#取得最大值之后，丢掉最大值及的左边的,重新赋值就好了\n",
    "    return \"\".join(res)\n",
    "\n",
    "s=list(s)\n",
    "print (solution(s))"
   ]
  },
  {
   "cell_type": "code",
   "execution_count": 222,
   "metadata": {},
   "outputs": [
    {
     "data": {
      "text/plain": [
       "2"
      ]
     },
     "execution_count": 222,
     "metadata": {},
     "output_type": "execute_result"
    }
   ],
   "source": [
    "b=[1,9,6,3]\n",
    "b.index(6)"
   ]
  },
  {
   "cell_type": "code",
   "execution_count": 226,
   "metadata": {},
   "outputs": [
    {
     "data": {
      "text/plain": [
       "[0]"
      ]
     },
     "execution_count": 226,
     "metadata": {},
     "output_type": "execute_result"
    }
   ],
   "source": [
    "a=[0,1]\n",
    "a[0:1]"
   ]
  },
  {
   "cell_type": "code",
   "execution_count": 249,
   "metadata": {},
   "outputs": [
    {
     "name": "stdout",
     "output_type": "stream",
     "text": [
      "abcabcabc\n",
      "1 0 b a\n",
      "abcabcabc\n",
      "2 0 c a\n",
      "abcabcabc\n",
      "abcabcabc\n",
      "4 0 b a\n",
      "abcabcabc\n",
      "5 0 c a\n",
      "abcabcabc\n",
      "abcabcabc\n",
      "7 0 b a\n",
      "abcabcabc\n",
      "8 0 c a\n",
      "abcabc\n"
     ]
    }
   ],
   "source": [
    "test='abcabcabc'\n",
    "\n",
    "def ans(test):\n",
    "    \n",
    "    i=0\n",
    "    result=[]\n",
    "    for j in range(1,len(test)):# 制作窗口可以从1到n-1\n",
    "        win=test[i:j]\n",
    "        lon=len(win)\n",
    "        \n",
    "        for m in range(len(test)):\n",
    "            \n",
    "            n=(m)%lon #子序的指针\n",
    "            if test[m]!=win[n]:#中断了就退出\n",
    "                break\n",
    "            if m==len(test)-1 and n<lon-1:\n",
    "                break\n",
    "            if m==len(test)-1:#如果能够检查到最后一位，那就是合法的\n",
    "                result=win\n",
    "    #过了这关就返回\n",
    "    if len(result)>0:\n",
    "        return result\n",
    "    else:\n",
    "        return 'false'\n",
    "res=ans(test)\n",
    "print(''.join(res))"
   ]
  },
  {
   "cell_type": "code",
   "execution_count": null,
   "metadata": {},
   "outputs": [],
   "source": [
    "# 如果 输入句子的指针为m\n",
    "# 窗口中的循环指针为 m % len(win)\n",
    "# 判断不行：  走完输入句子之前有不匹配的，或者不是同步达到结尾"
   ]
  },
  {
   "cell_type": "code",
   "execution_count": null,
   "metadata": {},
   "outputs": [],
   "source": [
    "#字符串匹配\n",
    "# 有多少种匹配方式\n"
   ]
  },
  {
   "cell_type": "code",
   "execution_count": 254,
   "metadata": {},
   "outputs": [
    {
     "data": {
      "text/plain": [
       "['00', '01', '10', '11']"
      ]
     },
     "execution_count": 254,
     "metadata": {},
     "output_type": "execute_result"
    }
   ],
   "source": [
    "result=[]\n",
    "cnt=0\n",
    "def compu(str):\n",
    "    #print(str)\n",
    "    if '?' in str:\n",
    "        compu(str.replace('?','0',1))\n",
    "        compu(str.replace('?','1',1))\n",
    "    else:\n",
    "        result.append(str)\n",
    "        return \n",
    "a=compu(B)\n",
    "for i in range(len(result)):\n",
    "    if result[i] in A:\n",
    "        cnt+=1\n",
    "print(cnt)\n",
    "\n",
    "# 内存爆了"
   ]
  },
  {
   "cell_type": "code",
   "execution_count": null,
   "metadata": {},
   "outputs": [],
   "source": []
  },
  {
   "cell_type": "code",
   "execution_count": 257,
   "metadata": {},
   "outputs": [
    {
     "data": {
      "text/plain": [
       "True"
      ]
     },
     "execution_count": 257,
     "metadata": {},
     "output_type": "execute_result"
    }
   ],
   "source": [
    "a=set([1,2,3])\n",
    "b=set([1])\n",
    "a>b"
   ]
  },
  {
   "cell_type": "code",
   "execution_count": null,
   "metadata": {},
   "outputs": [],
   "source": [
    "\n",
    "\n",
    "def solution(A,B):\n",
    "    if len(B)>len(A):\n",
    "        return 0\n",
    "    s=len(B)\n",
    "    count=0\n",
    "    res=[]\n",
    "    for i in range(len(A)-s+1): \n",
    "        t=0\n",
    "        for j in range(s): #每遍历一个字，就调用弯路 长s\n",
    "            if B[j]=='?' or B[j]==A[i:i+s][j]: #弯路为?或者与弯路同步的元素相等\n",
    "                t+=1 # 匹配的元素个数\n",
    "                if t==s:#如果整条弯路都匹配\n",
    "                    res.append(A[i:i+s]) #那就参考弯路，加入结果\n",
    "            else:\n",
    "                break\n",
    "    return len(set(res))\n",
    "A=raw_input().strip()\n",
    "B=raw_input().strip()\n",
    "print solution(A,B)\n",
    "\n",
    "# 先生成各种表达式的做法，太冗余了，直接在比较中略过? 就好\n",
    "# "
   ]
  },
  {
   "cell_type": "code",
   "execution_count": 267,
   "metadata": {},
   "outputs": [
    {
     "name": "stdout",
     "output_type": "stream",
     "text": [
      "本次计数: 0 0\n",
      "本次计数: 1 0\n",
      "本次计数: 2 0\n",
      "本次计数: 3 0\n",
      "本次计数: 4 0\n",
      "本次计数: 5 0\n",
      "本次计数: 6 0\n",
      "本次计数: 7 0\n",
      "本次计数: 8 0\n",
      "本次计数: 9 4\n",
      "有: 9\n",
      "本次计数: 10 0\n",
      "本次计数: 11 0\n",
      "本次计数: 12 0\n"
     ]
    }
   ],
   "source": [
    "\n",
    "# 看字符串是否 有 特定序列\n",
    "\n",
    "a='jackzhangleonwang'\n",
    "t='leon'\n",
    "for i in range(len(a)-len(t)):\n",
    "    \n",
    "    cnt=0\n",
    "    for j in range(len(t)):\n",
    "        \n",
    "        if t[j]==a[i:i+len(t)+1][j]:#调到同一起点，然后匹配计数\n",
    "            cnt+=1\n",
    "        else:\n",
    "            break\n",
    "    print('本次计数:',i,cnt) \n",
    "    if cnt==len(t):\n",
    "        print('有:',i)\n"
   ]
  },
  {
   "cell_type": "code",
   "execution_count": 269,
   "metadata": {},
   "outputs": [
    {
     "name": "stdout",
     "output_type": "stream",
     "text": [
      "1\n"
     ]
    }
   ],
   "source": [
    "\n",
    "def solution(A,B):\n",
    "    if len(B)>len(A):\n",
    "        return 0\n",
    "    s=len(B)\n",
    "    count=0\n",
    "    res=[]\n",
    "    for i in range(len(A)-s+1):\n",
    "        t=0\n",
    "        for j in range(s):\n",
    "            if B[j]=='?' or B[j]==A[i:i+s][j]:\n",
    "                t+=1\n",
    "                if t==s:\n",
    "                    res.append(A[i:i+s])\n",
    "            else:\n",
    "                break\n",
    "    return len(set(res))\n",
    "\n",
    "print(solution(a,t))"
   ]
  },
  {
   "cell_type": "code",
   "execution_count": 273,
   "metadata": {},
   "outputs": [
    {
     "data": {
      "text/plain": [
       "[1, 2, 3, 4]"
      ]
     },
     "execution_count": 273,
     "metadata": {},
     "output_type": "execute_result"
    }
   ],
   "source": [
    "sorted([1,2,3,4])"
   ]
  },
  {
   "cell_type": "code",
   "execution_count": 289,
   "metadata": {},
   "outputs": [
    {
     "data": {
      "text/plain": [
       "(list, [(3, 1), (3, 5), (3, 8)])"
      ]
     },
     "execution_count": 289,
     "metadata": {},
     "output_type": "execute_result"
    }
   ],
   "source": [
    "a=[(3,5),(3,1),(3,8)]#sorted很好用  如果多维的，先比较左边维，然后依次比较右边维\n",
    "a=sorted(a)\n",
    "type(sorted(a)),a"
   ]
  },
  {
   "cell_type": "code",
   "execution_count": 287,
   "metadata": {},
   "outputs": [
    {
     "data": {
      "text/plain": [
       "[(3, 5), (3, 1), (3, 8)]"
      ]
     },
     "execution_count": 287,
     "metadata": {},
     "output_type": "execute_result"
    }
   ],
   "source": [
    "a=[(3,5),(3,1),(3,8)]\n",
    "a"
   ]
  },
  {
   "cell_type": "code",
   "execution_count": 310,
   "metadata": {},
   "outputs": [
    {
     "name": "stdout",
     "output_type": "stream",
     "text": [
      "0 0\n",
      "0 1\n",
      "0 2\n",
      "[(0, 0)]\n",
      "1 0\n",
      "1 1\n",
      "1 2\n",
      "[(0, 0), (2, 1)]\n",
      "1\n"
     ]
    }
   ],
   "source": [
    "#a可以在A的开头或者结尾添加任意字符，使得长度和B一样。现在问小摩对A串添加完字符之后，不相等的位数最少有多少位？\n",
    "\n",
    "a='abe'\n",
    "b='cabc'\n",
    "group=[]\n",
    "\n",
    "for i in range(len(b)-len(a)+1):#i为位移\n",
    "    cnt=0\n",
    "    for j in range(len(a)):\n",
    "        print(i,j)\n",
    "        if a[j]==b[i+j]:\n",
    "            cnt+=1\n",
    "    #内循环跑完\n",
    "    group.append((cnt,i))\n",
    "    print(group)\n",
    "group=sorted(group)#大到小\n",
    "pi,l=group[-1]\n",
    "print(len(a)-pi)"
   ]
  },
  {
   "cell_type": "code",
   "execution_count": 307,
   "metadata": {},
   "outputs": [
    {
     "data": {
      "text/plain": [
       "[1, 2, 3, 4, 5, 6]"
      ]
     },
     "execution_count": 307,
     "metadata": {},
     "output_type": "execute_result"
    }
   ],
   "source": [
    "a=[1,2,3]\n",
    "b=[4,5,6]\n",
    "a+b"
   ]
  },
  {
   "cell_type": "code",
   "execution_count": 334,
   "metadata": {},
   "outputs": [
    {
     "name": "stdout",
     "output_type": "stream",
     "text": [
      "12345 23456 34567 45678 56789\n"
     ]
    }
   ],
   "source": [
    "x='123456789'\n",
    "n=5\n",
    "\n",
    "# 0 1 2 3\n",
    "#     0 1\n",
    "\n",
    "def ans(x,n):\n",
    "    result=''\n",
    "    if len(x)==0 or n<0:\n",
    "        return -1\n",
    "    for i in range(len(x)-n+1):\n",
    "        if i!=0:\n",
    "            result+=' '\n",
    "        result=result+x[i:i+n]\n",
    "    return result\n",
    "print(ans(x,n))"
   ]
  },
  {
   "cell_type": "code",
   "execution_count": 332,
   "metadata": {},
   "outputs": [
    {
     "name": "stdout",
     "output_type": "stream",
     "text": [
      "123456789\n",
      "5\n"
     ]
    },
    {
     "ename": "SyntaxError",
     "evalue": "'return' outside function (<ipython-input-332-b7dc24d103b6>, line 8)",
     "output_type": "error",
     "traceback": [
      "\u001b[1;36m  File \u001b[1;32m\"<ipython-input-332-b7dc24d103b6>\"\u001b[1;36m, line \u001b[1;32m8\u001b[0m\n\u001b[1;33m    return -1\u001b[0m\n\u001b[1;37m    ^\u001b[0m\n\u001b[1;31mSyntaxError\u001b[0m\u001b[1;31m:\u001b[0m 'return' outside function\n"
     ]
    }
   ],
   "source": [
    "x=input().strip()\n",
    "n=int(input().strip())\n",
    "# 窗口法\n",
    "# 0 1 2 3\n",
    "#     0 1\n",
    "result=''\n",
    "if len(x)==0:\n",
    "    return -1\n",
    "for i in range(len(x)-n+1):\n",
    "    if i!=0:\n",
    "        result+=' '\n",
    "    result=result+x[i:i+n]\n",
    "    \n",
    "print(result)"
   ]
  },
  {
   "cell_type": "code",
   "execution_count": 350,
   "metadata": {},
   "outputs": [
    {
     "data": {
      "text/plain": [
       "'123'"
      ]
     },
     "execution_count": 350,
     "metadata": {},
     "output_type": "execute_result"
    }
   ],
   "source": [
    "a='\"123\"'\n",
    "a.split('\"')[-2]"
   ]
  },
  {
   "cell_type": "code",
   "execution_count": 339,
   "metadata": {},
   "outputs": [
    {
     "data": {
      "text/plain": [
       "'123'"
      ]
     },
     "execution_count": 339,
     "metadata": {},
     "output_type": "execute_result"
    }
   ],
   "source": [
    "a.strip('\"') #rstrip"
   ]
  },
  {
   "cell_type": "code",
   "execution_count": 340,
   "metadata": {},
   "outputs": [
    {
     "data": {
      "text/plain": [
       "['1', '3']"
      ]
     },
     "execution_count": 340,
     "metadata": {},
     "output_type": "execute_result"
    }
   ],
   "source": [
    "a='1,2,3'\n",
    "a.split(',2,')"
   ]
  },
  {
   "cell_type": "code",
   "execution_count": 343,
   "metadata": {},
   "outputs": [
    {
     "data": {
      "text/plain": [
       "True"
      ]
     },
     "execution_count": 343,
     "metadata": {},
     "output_type": "execute_result"
    }
   ],
   "source": [
    "'abca'>'abc'"
   ]
  },
  {
   "cell_type": "code",
   "execution_count": 347,
   "metadata": {},
   "outputs": [
    {
     "data": {
      "text/plain": [
       "True"
      ]
     },
     "execution_count": 347,
     "metadata": {},
     "output_type": "execute_result"
    }
   ],
   "source": [
    "'abcd'<'zf'"
   ]
  },
  {
   "cell_type": "code",
   "execution_count": 352,
   "metadata": {},
   "outputs": [
    {
     "data": {
      "text/plain": [
       "'\"123\"'"
      ]
     },
     "execution_count": 352,
     "metadata": {},
     "output_type": "execute_result"
    }
   ],
   "source": [
    "b=eval('a')\n",
    "b"
   ]
  },
  {
   "cell_type": "code",
   "execution_count": 353,
   "metadata": {},
   "outputs": [
    {
     "data": {
      "text/plain": [
       "'\"123\"'"
      ]
     },
     "execution_count": 353,
     "metadata": {},
     "output_type": "execute_result"
    }
   ],
   "source": [
    "a"
   ]
  },
  {
   "cell_type": "code",
   "execution_count": 373,
   "metadata": {},
   "outputs": [
    {
     "data": {
      "text/plain": [
       "('\"123\"', 1, 2, 3)"
      ]
     },
     "execution_count": 373,
     "metadata": {},
     "output_type": "execute_result"
    }
   ],
   "source": [
    "a=tuple()\n",
    "a=a+(b,)+(1,2,3) #相当于extend   这个做中途路径好,返回上一层的时候对原tuple没有影响\n",
    "a"
   ]
  },
  {
   "cell_type": "code",
   "execution_count": 374,
   "metadata": {},
   "outputs": [
    {
     "data": {
      "text/plain": [
       "[1, 2, 3, 5]"
      ]
     },
     "execution_count": 374,
     "metadata": {},
     "output_type": "execute_result"
    }
   ],
   "source": [
    "b=[1,2,3]\n",
    "b+[5]"
   ]
  },
  {
   "cell_type": "code",
   "execution_count": 375,
   "metadata": {},
   "outputs": [
    {
     "data": {
      "text/plain": [
       "[1, 2, 3]"
      ]
     },
     "execution_count": 375,
     "metadata": {},
     "output_type": "execute_result"
    }
   ],
   "source": [
    "b"
   ]
  },
  {
   "cell_type": "code",
   "execution_count": 363,
   "metadata": {},
   "outputs": [
    {
     "data": {
      "text/plain": [
       "True"
      ]
     },
     "execution_count": 363,
     "metadata": {},
     "output_type": "execute_result"
    }
   ],
   "source": [
    "a='1234'\n",
    "a.endswith('34')"
   ]
  },
  {
   "cell_type": "code",
   "execution_count": 365,
   "metadata": {},
   "outputs": [
    {
     "data": {
      "text/plain": [
       "False"
      ]
     },
     "execution_count": 365,
     "metadata": {},
     "output_type": "execute_result"
    }
   ],
   "source": [
    "a.startswith('13')"
   ]
  },
  {
   "cell_type": "code",
   "execution_count": 444,
   "metadata": {},
   "outputs": [
    {
     "name": "stdout",
     "output_type": "stream",
     "text": [
      "catsanddog\n",
      "['cat', 'cats', 'and', 'sand', 'dog']\n"
     ]
    }
   ],
   "source": [
    "# 查字典翻译句子\n",
    "# dfs 配for循环\n",
    "s='catsanddog'\n",
    "dic=[\"cat\",\"cats\",\"and\",\"sand\",\"dog\"]\n",
    "print(s)\n",
    "print(dic)\n",
    "for i in range(len(dic)):\n",
    "    dic[i].strip('\"\"')\n",
    "dic=sorted(dic)\n",
    "ans=[]\n",
    "tem=[]\n",
    "all=[]\n",
    "import copy as cp\n",
    "def dfs(s,dic,tem,ans):#明确目标，拿到一个串，匹配到合适的东西，就取出来\n",
    "    all.append(1)\n",
    "    \n",
    "    if not s:\n",
    "        path=cp.copy(tem)\n",
    "        ans.append(path)# ans  append进来的  tem 是list，所以绑定了地址，如果我在其他地方改了tem，ans连带受影响      tuple没有这样的\n",
    "\n",
    "        return\n",
    "        \n",
    "    for i in range(len(dic)):#只能逐个字典查\n",
    "        \n",
    "        #终止条件  如果上一层匹配了最后一个词，就会传一个空串下来 ''，表示这个路径正确\n",
    "        \n",
    "        if s.startswith(dic[i]):\n",
    "\n",
    "            tem.append(dic[i])\n",
    "            dfs(s[len(dic[i]):],dic,tem,ans)\n",
    "            tem.pop()\n",
    "    return \n",
    "\n",
    "dfs(s,dic,tem,ans)#为什么全局的ans记不住呢?\n",
    "\n",
    "\n"
   ]
  },
  {
   "cell_type": "code",
   "execution_count": 401,
   "metadata": {},
   "outputs": [
    {
     "data": {
      "text/plain": [
       "(1, 2, 3, 4)"
      ]
     },
     "execution_count": 401,
     "metadata": {},
     "output_type": "execute_result"
    }
   ],
   "source": [
    "a=(1,2)\n",
    "b=(3,4)\n",
    "c=a+b\n",
    "c"
   ]
  },
  {
   "cell_type": "code",
   "execution_count": 402,
   "metadata": {},
   "outputs": [
    {
     "data": {
      "text/plain": [
       "(1, 2, 99)"
      ]
     },
     "execution_count": 402,
     "metadata": {},
     "output_type": "execute_result"
    }
   ],
   "source": [
    "a=a+(99,)\n",
    "a"
   ]
  },
  {
   "cell_type": "code",
   "execution_count": 419,
   "metadata": {},
   "outputs": [
    {
     "data": {
      "text/plain": [
       "(1, 2, 3)"
      ]
     },
     "execution_count": 419,
     "metadata": {},
     "output_type": "execute_result"
    }
   ],
   "source": [
    "c[0:-1]\n"
   ]
  },
  {
   "cell_type": "code",
   "execution_count": null,
   "metadata": {},
   "outputs": [],
   "source": [
    "a=[1,2,3]\n",
    "import copy as cp\n",
    "b=a"
   ]
  },
  {
   "cell_type": "code",
   "execution_count": 435,
   "metadata": {},
   "outputs": [
    {
     "data": {
      "text/plain": [
       "([1, 2, 3, 3], [1, 2, 3, 3])"
      ]
     },
     "execution_count": 435,
     "metadata": {},
     "output_type": "execute_result"
    }
   ],
   "source": [
    "a+[3]\n",
    "b,a"
   ]
  },
  {
   "cell_type": "code",
   "execution_count": 436,
   "metadata": {},
   "outputs": [
    {
     "data": {
      "text/plain": [
       "(4, 3, 5, 999, 999)"
      ]
     },
     "execution_count": 436,
     "metadata": {},
     "output_type": "execute_result"
    }
   ],
   "source": [
    "a=tuple([4,3,5])\n",
    "b=(999,999)\n",
    "a+b"
   ]
  },
  {
   "cell_type": "code",
   "execution_count": 438,
   "metadata": {},
   "outputs": [
    {
     "data": {
      "text/plain": [
       "'123123'"
      ]
     },
     "execution_count": 438,
     "metadata": {},
     "output_type": "execute_result"
    }
   ],
   "source": []
  },
  {
   "cell_type": "code",
   "execution_count": 2,
   "metadata": {},
   "outputs": [
    {
     "name": "stdout",
     "output_type": "stream",
     "text": [
      "s =\"catsanddog\"\n",
      "dict =\"cat\",\"cats\",\"and\",\"sand\",\"dog\"\n",
      "catsanddog ['and', 'cat', 'cats', 'dog', 'sand']\n",
      "[cat sand dog, cats and dog]\n"
     ]
    }
   ],
   "source": [
    "s=input().strip()\n",
    "dic=input().strip()\n",
    "s=s.split('\"')[-2]\n",
    "dic=dic.split(\"=\")[-1].strip('\"').split('\",\"')\n",
    "dic=sorted(dic)\n",
    "\n",
    "# 又想到递归，选或者不选该字串为一个整体\n",
    "# 某个字符算是最后一位吗\n",
    "# 先排好序 二分法查字典\n",
    "# 如果小于最小的，或者大于最大的，那就不在字典内部\n",
    "ans=[]\n",
    "tem=[]\n",
    "def dfs(s,dic,tem,ans):#明确目标，拿到一个串，匹配到合适的东西，就取出来\n",
    "    if not s:\n",
    "        path=[i for i in tem]\n",
    "        ans.append(path)# ans  append进来的  tem 是list，\n",
    "        #所以绑定了地址，如果我在其他地方改了tem，ans连带受影响      tuple没有这样的\n",
    "        return\n",
    "\n",
    "    for i in range(len(dic)):#只能逐个字典查\n",
    "        if s.startswith(dic[i]):\n",
    "            tem.append(dic[i])\n",
    "            dfs(s[len(dic[i]):],dic,tem,ans)\n",
    "            tem.pop()\n",
    "    return # for 循环搜索完了，走人\n",
    "dfs(s,dic,tem,ans)\n",
    "result=''\n",
    "for i in range(len(ans)):\n",
    "    if i!=0:\n",
    "        result+=', '\n",
    "    for j in range(len(ans[i])):\n",
    "        if j!=0:\n",
    "            result+=' '\n",
    "        result+=ans[i][j]\n",
    "print('['+result+']')"
   ]
  },
  {
   "cell_type": "code",
   "execution_count": 452,
   "metadata": {},
   "outputs": [
    {
     "name": "stdout",
     "output_type": "stream",
     "text": [
      "[cat sand dog, cats and dog]\n"
     ]
    }
   ],
   "source": [
    "# 注意这里 cats 比 cat优先查字典 所以可以先排序反过来  (,reverse=True)#大到小\n"
   ]
  },
  {
   "cell_type": "code",
   "execution_count": 2,
   "metadata": {},
   "outputs": [
    {
     "name": "stdout",
     "output_type": "stream",
     "text": [
      "s =\"catsanddog\"\n",
      "dict =\"cat\",\"cats\",\"and\",\"sand\",\"dog\"\n"
     ]
    },
    {
     "ename": "TypeError",
     "evalue": "'module' object is not callable",
     "output_type": "error",
     "traceback": [
      "\u001b[1;31m---------------------------------------------------------------------------\u001b[0m",
      "\u001b[1;31mTypeError\u001b[0m                                 Traceback (most recent call last)",
      "\u001b[1;32m<ipython-input-2-ad6288abb0a7>\u001b[0m in \u001b[0;36m<module>\u001b[1;34m\u001b[0m\n\u001b[0;32m     17\u001b[0m     \u001b[0mdic\u001b[0m\u001b[1;33m.\u001b[0m\u001b[0msort\u001b[0m\u001b[1;33m(\u001b[0m\u001b[0mreverse\u001b[0m\u001b[1;33m=\u001b[0m\u001b[1;32mTrue\u001b[0m\u001b[1;33m)\u001b[0m\u001b[1;33m\u001b[0m\u001b[1;33m\u001b[0m\u001b[0m\n\u001b[0;32m     18\u001b[0m     \u001b[0mans\u001b[0m \u001b[1;33m=\u001b[0m \u001b[1;33m[\u001b[0m\u001b[1;33m]\u001b[0m\u001b[1;33m\u001b[0m\u001b[1;33m\u001b[0m\u001b[0m\n\u001b[1;32m---> 19\u001b[1;33m     \u001b[0mdfs\u001b[0m\u001b[1;33m(\u001b[0m\u001b[0ms\u001b[0m\u001b[1;33m,\u001b[0m \u001b[0mdic\u001b[0m\u001b[1;33m,\u001b[0m \u001b[1;33m[\u001b[0m\u001b[1;33m]\u001b[0m\u001b[1;33m,\u001b[0m \u001b[0mans\u001b[0m\u001b[1;33m)\u001b[0m\u001b[1;33m\u001b[0m\u001b[1;33m\u001b[0m\u001b[0m\n\u001b[0m\u001b[0;32m     20\u001b[0m     \u001b[0mprint\u001b[0m\u001b[1;33m(\u001b[0m\u001b[1;34m'['\u001b[0m \u001b[1;33m+\u001b[0m \u001b[1;34m', '\u001b[0m\u001b[1;33m.\u001b[0m\u001b[0mjoin\u001b[0m\u001b[1;33m(\u001b[0m\u001b[0mans\u001b[0m\u001b[1;33m)\u001b[0m \u001b[1;33m+\u001b[0m \u001b[1;34m']'\u001b[0m\u001b[1;33m)\u001b[0m\u001b[1;33m\u001b[0m\u001b[1;33m\u001b[0m\u001b[0m\n",
      "\u001b[1;32m<ipython-input-2-ad6288abb0a7>\u001b[0m in \u001b[0;36mdfs\u001b[1;34m(s, dic, arr, ans)\u001b[0m\n\u001b[0;32m      7\u001b[0m         \u001b[1;32mif\u001b[0m \u001b[0ms\u001b[0m\u001b[1;33m.\u001b[0m\u001b[0mstartswith\u001b[0m\u001b[1;33m(\u001b[0m\u001b[0mw\u001b[0m\u001b[1;33m)\u001b[0m\u001b[1;33m:\u001b[0m\u001b[1;33m\u001b[0m\u001b[1;33m\u001b[0m\u001b[0m\n\u001b[0;32m      8\u001b[0m             \u001b[0marr\u001b[0m\u001b[1;33m.\u001b[0m\u001b[0mappend\u001b[0m\u001b[1;33m(\u001b[0m\u001b[0mw\u001b[0m\u001b[1;33m)\u001b[0m\u001b[1;33m\u001b[0m\u001b[1;33m\u001b[0m\u001b[0m\n\u001b[1;32m----> 9\u001b[1;33m             \u001b[0mdfs\u001b[0m\u001b[1;33m(\u001b[0m\u001b[0ms\u001b[0m\u001b[1;33m[\u001b[0m\u001b[0mlen\u001b[0m\u001b[1;33m(\u001b[0m\u001b[0mw\u001b[0m\u001b[1;33m)\u001b[0m\u001b[1;33m:\u001b[0m\u001b[1;33m]\u001b[0m\u001b[1;33m,\u001b[0m \u001b[0mdic\u001b[0m\u001b[1;33m,\u001b[0m \u001b[0marr\u001b[0m\u001b[1;33m,\u001b[0m \u001b[0mans\u001b[0m\u001b[1;33m)\u001b[0m\u001b[1;33m\u001b[0m\u001b[1;33m\u001b[0m\u001b[0m\n\u001b[0m\u001b[0;32m     10\u001b[0m \u001b[1;33m\u001b[0m\u001b[0m\n\u001b[0;32m     11\u001b[0m \u001b[1;33m\u001b[0m\u001b[0m\n",
      "\u001b[1;32m<ipython-input-2-ad6288abb0a7>\u001b[0m in \u001b[0;36mdfs\u001b[1;34m(s, dic, arr, ans)\u001b[0m\n\u001b[0;32m      7\u001b[0m         \u001b[1;32mif\u001b[0m \u001b[0ms\u001b[0m\u001b[1;33m.\u001b[0m\u001b[0mstartswith\u001b[0m\u001b[1;33m(\u001b[0m\u001b[0mw\u001b[0m\u001b[1;33m)\u001b[0m\u001b[1;33m:\u001b[0m\u001b[1;33m\u001b[0m\u001b[1;33m\u001b[0m\u001b[0m\n\u001b[0;32m      8\u001b[0m             \u001b[0marr\u001b[0m\u001b[1;33m.\u001b[0m\u001b[0mappend\u001b[0m\u001b[1;33m(\u001b[0m\u001b[0mw\u001b[0m\u001b[1;33m)\u001b[0m\u001b[1;33m\u001b[0m\u001b[1;33m\u001b[0m\u001b[0m\n\u001b[1;32m----> 9\u001b[1;33m             \u001b[0mdfs\u001b[0m\u001b[1;33m(\u001b[0m\u001b[0ms\u001b[0m\u001b[1;33m[\u001b[0m\u001b[0mlen\u001b[0m\u001b[1;33m(\u001b[0m\u001b[0mw\u001b[0m\u001b[1;33m)\u001b[0m\u001b[1;33m:\u001b[0m\u001b[1;33m]\u001b[0m\u001b[1;33m,\u001b[0m \u001b[0mdic\u001b[0m\u001b[1;33m,\u001b[0m \u001b[0marr\u001b[0m\u001b[1;33m,\u001b[0m \u001b[0mans\u001b[0m\u001b[1;33m)\u001b[0m\u001b[1;33m\u001b[0m\u001b[1;33m\u001b[0m\u001b[0m\n\u001b[0m\u001b[0;32m     10\u001b[0m \u001b[1;33m\u001b[0m\u001b[0m\n\u001b[0;32m     11\u001b[0m \u001b[1;33m\u001b[0m\u001b[0m\n",
      "\u001b[1;32m<ipython-input-2-ad6288abb0a7>\u001b[0m in \u001b[0;36mdfs\u001b[1;34m(s, dic, arr, ans)\u001b[0m\n\u001b[0;32m      7\u001b[0m         \u001b[1;32mif\u001b[0m \u001b[0ms\u001b[0m\u001b[1;33m.\u001b[0m\u001b[0mstartswith\u001b[0m\u001b[1;33m(\u001b[0m\u001b[0mw\u001b[0m\u001b[1;33m)\u001b[0m\u001b[1;33m:\u001b[0m\u001b[1;33m\u001b[0m\u001b[1;33m\u001b[0m\u001b[0m\n\u001b[0;32m      8\u001b[0m             \u001b[0marr\u001b[0m\u001b[1;33m.\u001b[0m\u001b[0mappend\u001b[0m\u001b[1;33m(\u001b[0m\u001b[0mw\u001b[0m\u001b[1;33m)\u001b[0m\u001b[1;33m\u001b[0m\u001b[1;33m\u001b[0m\u001b[0m\n\u001b[1;32m----> 9\u001b[1;33m             \u001b[0mdfs\u001b[0m\u001b[1;33m(\u001b[0m\u001b[0ms\u001b[0m\u001b[1;33m[\u001b[0m\u001b[0mlen\u001b[0m\u001b[1;33m(\u001b[0m\u001b[0mw\u001b[0m\u001b[1;33m)\u001b[0m\u001b[1;33m:\u001b[0m\u001b[1;33m]\u001b[0m\u001b[1;33m,\u001b[0m \u001b[0mdic\u001b[0m\u001b[1;33m,\u001b[0m \u001b[0marr\u001b[0m\u001b[1;33m,\u001b[0m \u001b[0mans\u001b[0m\u001b[1;33m)\u001b[0m\u001b[1;33m\u001b[0m\u001b[1;33m\u001b[0m\u001b[0m\n\u001b[0m\u001b[0;32m     10\u001b[0m \u001b[1;33m\u001b[0m\u001b[0m\n\u001b[0;32m     11\u001b[0m \u001b[1;33m\u001b[0m\u001b[0m\n",
      "\u001b[1;32m<ipython-input-2-ad6288abb0a7>\u001b[0m in \u001b[0;36mdfs\u001b[1;34m(s, dic, arr, ans)\u001b[0m\n\u001b[0;32m      2\u001b[0m \u001b[1;32mdef\u001b[0m \u001b[0mdfs\u001b[0m\u001b[1;33m(\u001b[0m\u001b[0ms\u001b[0m\u001b[1;33m,\u001b[0m \u001b[0mdic\u001b[0m\u001b[1;33m,\u001b[0m \u001b[0marr\u001b[0m\u001b[1;33m,\u001b[0m \u001b[0mans\u001b[0m\u001b[1;33m)\u001b[0m\u001b[1;33m:\u001b[0m\u001b[1;33m\u001b[0m\u001b[1;33m\u001b[0m\u001b[0m\n\u001b[0;32m      3\u001b[0m     \u001b[1;32mif\u001b[0m \u001b[1;32mnot\u001b[0m \u001b[0ms\u001b[0m\u001b[1;33m:\u001b[0m\u001b[1;33m\u001b[0m\u001b[1;33m\u001b[0m\u001b[0m\n\u001b[1;32m----> 4\u001b[1;33m         \u001b[0mtem\u001b[0m\u001b[1;33m=\u001b[0m\u001b[0mcopy\u001b[0m\u001b[1;33m(\u001b[0m\u001b[0marr\u001b[0m\u001b[1;33m)\u001b[0m\u001b[1;33m\u001b[0m\u001b[1;33m\u001b[0m\u001b[0m\n\u001b[0m\u001b[0;32m      5\u001b[0m         \u001b[0mans\u001b[0m\u001b[1;33m.\u001b[0m\u001b[0mappend\u001b[0m\u001b[1;33m(\u001b[0m\u001b[0mtem\u001b[0m\u001b[1;33m)\u001b[0m\u001b[1;33m\u001b[0m\u001b[1;33m\u001b[0m\u001b[0m\n\u001b[0;32m      6\u001b[0m     \u001b[1;32mfor\u001b[0m \u001b[0mw\u001b[0m \u001b[1;32min\u001b[0m \u001b[0mdic\u001b[0m\u001b[1;33m:\u001b[0m\u001b[1;33m\u001b[0m\u001b[1;33m\u001b[0m\u001b[0m\n",
      "\u001b[1;31mTypeError\u001b[0m: 'module' object is not callable"
     ]
    }
   ],
   "source": [
    "# 网友答案\n",
    "\n",
    "def dfs(s, dic, arr, ans):\n",
    "    if not s:\n",
    "        ans.append(' '.join(arr))\n",
    "    for w in dic:\n",
    "        if s.startswith(w):\n",
    "            dfs(s[len(w):], dic, arr + (w,), ans)\n",
    "\n",
    "if __name__ == \"__main__\":\n",
    "    s = input().strip()\n",
    "    s = s[s.index('\"') + 1:-1]\n",
    "    dic = input().strip()\n",
    "    dic = eval(\"[\" + dic[dic.index('\"'):] + \"]\")\n",
    "    dic.sort(reverse=True)\n",
    "    ans = []\n",
    "    dfs(s, dic, tuple(), ans)\n",
    "    print('[' + ', '.join(ans) + ']')"
   ]
  },
  {
   "cell_type": "code",
   "execution_count": 14,
   "metadata": {},
   "outputs": [
    {
     "data": {
      "text/plain": [
       "('1', '2', '3', ' ')"
      ]
     },
     "execution_count": 14,
     "metadata": {},
     "output_type": "execute_result"
    }
   ],
   "source": [
    "# 牛客不能用copy\n",
    "a=('1', )\n",
    "b=a+('2',   )+('3',)+(' ',)\n",
    "b"
   ]
  },
  {
   "cell_type": "code",
   "execution_count": 15,
   "metadata": {},
   "outputs": [
    {
     "data": {
      "text/plain": [
       "'123 '"
      ]
     },
     "execution_count": 15,
     "metadata": {},
     "output_type": "execute_result"
    }
   ],
   "source": [
    "''.join(b)#只能join str和list"
   ]
  },
  {
   "cell_type": "code",
   "execution_count": null,
   "metadata": {},
   "outputs": [],
   "source": []
  },
  {
   "cell_type": "code",
   "execution_count": null,
   "metadata": {},
   "outputs": [],
   "source": []
  },
  {
   "cell_type": "code",
   "execution_count": 19,
   "metadata": {},
   "outputs": [
    {
     "data": {
      "text/plain": [
       "[1, 1, 2, 3, 5, 8, 13, 21, 34, 55, 89]"
      ]
     },
     "execution_count": 19,
     "metadata": {},
     "output_type": "execute_result"
    }
   ],
   "source": [
    "#青蛙跳台阶\n",
    "\n",
    "dp=[0]*(10+1)\n",
    "dp[0]=1\n",
    "dp\n",
    "for i in range(1,len(dp)):\n",
    "    if i-2>=0:\n",
    "        dp[i]=dp[i-2]+dp[i-1]\n",
    "    else:\n",
    "        dp[i]=dp[i-1]\n",
    "dp"
   ]
  },
  {
   "cell_type": "code",
   "execution_count": 15,
   "metadata": {},
   "outputs": [],
   "source": [
    "a=tuple([3])"
   ]
  },
  {
   "cell_type": "code",
   "execution_count": 17,
   "metadata": {},
   "outputs": [],
   "source": [
    "a='123'"
   ]
  },
  {
   "cell_type": "code",
   "execution_count": 18,
   "metadata": {},
   "outputs": [
    {
     "ename": "AttributeError",
     "evalue": "'str' object has no attribute 'pop'",
     "output_type": "error",
     "traceback": [
      "\u001b[1;31m---------------------------------------------------------------------------\u001b[0m",
      "\u001b[1;31mAttributeError\u001b[0m                            Traceback (most recent call last)",
      "\u001b[1;32m<ipython-input-18-9c070c907602>\u001b[0m in \u001b[0;36m<module>\u001b[1;34m\u001b[0m\n\u001b[1;32m----> 1\u001b[1;33m \u001b[0ma\u001b[0m\u001b[1;33m.\u001b[0m\u001b[0mpop\u001b[0m\u001b[1;33m(\u001b[0m\u001b[1;33m)\u001b[0m\u001b[1;33m\u001b[0m\u001b[1;33m\u001b[0m\u001b[0m\n\u001b[0m",
      "\u001b[1;31mAttributeError\u001b[0m: 'str' object has no attribute 'pop'"
     ]
    }
   ],
   "source": [
    "a.pop()"
   ]
  },
  {
   "cell_type": "code",
   "execution_count": null,
   "metadata": {},
   "outputs": [],
   "source": []
  },
  {
   "cell_type": "code",
   "execution_count": null,
   "metadata": {},
   "outputs": [],
   "source": []
  },
  {
   "cell_type": "code",
   "execution_count": null,
   "metadata": {},
   "outputs": [],
   "source": []
  },
  {
   "cell_type": "code",
   "execution_count": null,
   "metadata": {},
   "outputs": [],
   "source": []
  },
  {
   "cell_type": "code",
   "execution_count": null,
   "metadata": {},
   "outputs": [],
   "source": []
  },
  {
   "cell_type": "code",
   "execution_count": null,
   "metadata": {},
   "outputs": [],
   "source": []
  },
  {
   "cell_type": "code",
   "execution_count": null,
   "metadata": {},
   "outputs": [],
   "source": []
  },
  {
   "cell_type": "code",
   "execution_count": null,
   "metadata": {},
   "outputs": [],
   "source": []
  },
  {
   "cell_type": "code",
   "execution_count": null,
   "metadata": {},
   "outputs": [],
   "source": []
  },
  {
   "cell_type": "code",
   "execution_count": null,
   "metadata": {},
   "outputs": [],
   "source": []
  },
  {
   "cell_type": "code",
   "execution_count": null,
   "metadata": {},
   "outputs": [],
   "source": []
  },
  {
   "cell_type": "code",
   "execution_count": null,
   "metadata": {},
   "outputs": [],
   "source": []
  },
  {
   "cell_type": "code",
   "execution_count": null,
   "metadata": {},
   "outputs": [],
   "source": []
  },
  {
   "cell_type": "code",
   "execution_count": null,
   "metadata": {},
   "outputs": [],
   "source": []
  },
  {
   "cell_type": "code",
   "execution_count": null,
   "metadata": {},
   "outputs": [],
   "source": []
  },
  {
   "cell_type": "code",
   "execution_count": null,
   "metadata": {},
   "outputs": [],
   "source": []
  },
  {
   "cell_type": "code",
   "execution_count": null,
   "metadata": {},
   "outputs": [],
   "source": []
  },
  {
   "cell_type": "code",
   "execution_count": null,
   "metadata": {},
   "outputs": [],
   "source": []
  },
  {
   "cell_type": "code",
   "execution_count": null,
   "metadata": {},
   "outputs": [],
   "source": []
  },
  {
   "cell_type": "code",
   "execution_count": null,
   "metadata": {},
   "outputs": [],
   "source": []
  },
  {
   "cell_type": "code",
   "execution_count": null,
   "metadata": {},
   "outputs": [],
   "source": []
  },
  {
   "cell_type": "code",
   "execution_count": null,
   "metadata": {},
   "outputs": [],
   "source": []
  },
  {
   "cell_type": "code",
   "execution_count": null,
   "metadata": {},
   "outputs": [],
   "source": []
  },
  {
   "cell_type": "code",
   "execution_count": null,
   "metadata": {},
   "outputs": [],
   "source": []
  },
  {
   "cell_type": "code",
   "execution_count": null,
   "metadata": {},
   "outputs": [],
   "source": []
  },
  {
   "cell_type": "code",
   "execution_count": null,
   "metadata": {},
   "outputs": [],
   "source": []
  },
  {
   "cell_type": "code",
   "execution_count": null,
   "metadata": {},
   "outputs": [],
   "source": []
  },
  {
   "cell_type": "code",
   "execution_count": null,
   "metadata": {},
   "outputs": [],
   "source": []
  },
  {
   "cell_type": "code",
   "execution_count": null,
   "metadata": {},
   "outputs": [],
   "source": []
  },
  {
   "cell_type": "code",
   "execution_count": null,
   "metadata": {},
   "outputs": [],
   "source": []
  },
  {
   "cell_type": "code",
   "execution_count": null,
   "metadata": {},
   "outputs": [],
   "source": []
  },
  {
   "cell_type": "code",
   "execution_count": null,
   "metadata": {},
   "outputs": [],
   "source": []
  },
  {
   "cell_type": "code",
   "execution_count": null,
   "metadata": {},
   "outputs": [],
   "source": []
  },
  {
   "cell_type": "code",
   "execution_count": null,
   "metadata": {},
   "outputs": [],
   "source": []
  },
  {
   "cell_type": "code",
   "execution_count": null,
   "metadata": {},
   "outputs": [],
   "source": []
  },
  {
   "cell_type": "code",
   "execution_count": null,
   "metadata": {},
   "outputs": [],
   "source": []
  },
  {
   "cell_type": "code",
   "execution_count": null,
   "metadata": {},
   "outputs": [],
   "source": []
  },
  {
   "cell_type": "code",
   "execution_count": null,
   "metadata": {},
   "outputs": [],
   "source": []
  },
  {
   "cell_type": "code",
   "execution_count": null,
   "metadata": {},
   "outputs": [],
   "source": []
  },
  {
   "cell_type": "code",
   "execution_count": null,
   "metadata": {},
   "outputs": [],
   "source": []
  },
  {
   "cell_type": "code",
   "execution_count": null,
   "metadata": {},
   "outputs": [],
   "source": []
  },
  {
   "cell_type": "code",
   "execution_count": null,
   "metadata": {},
   "outputs": [],
   "source": []
  },
  {
   "cell_type": "code",
   "execution_count": null,
   "metadata": {},
   "outputs": [],
   "source": []
  },
  {
   "cell_type": "code",
   "execution_count": null,
   "metadata": {},
   "outputs": [],
   "source": []
  },
  {
   "cell_type": "code",
   "execution_count": null,
   "metadata": {},
   "outputs": [],
   "source": []
  },
  {
   "cell_type": "code",
   "execution_count": null,
   "metadata": {},
   "outputs": [],
   "source": []
  },
  {
   "cell_type": "code",
   "execution_count": null,
   "metadata": {},
   "outputs": [],
   "source": []
  },
  {
   "cell_type": "code",
   "execution_count": null,
   "metadata": {},
   "outputs": [],
   "source": []
  }
 ],
 "metadata": {
  "kernelspec": {
   "display_name": "Python 3",
   "language": "python",
   "name": "python3"
  },
  "language_info": {
   "codemirror_mode": {
    "name": "ipython",
    "version": 3
   },
   "file_extension": ".py",
   "mimetype": "text/x-python",
   "name": "python",
   "nbconvert_exporter": "python",
   "pygments_lexer": "ipython3",
   "version": "3.6.7"
  }
 },
 "nbformat": 4,
 "nbformat_minor": 2
}
