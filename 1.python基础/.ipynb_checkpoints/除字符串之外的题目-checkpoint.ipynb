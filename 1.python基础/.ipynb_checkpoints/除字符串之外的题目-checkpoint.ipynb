{
 "cells": [
  {
   "cell_type": "code",
   "execution_count": 1,
   "metadata": {},
   "outputs": [],
   "source": [
    "#动态规划 "
   ]
  },
  {
   "cell_type": "code",
   "execution_count": 2,
   "metadata": {},
   "outputs": [],
   "source": [
    "# 一直青蛙 每次只能跳1到2级 到n级有多少种跳法\n",
    "# 跟摆红花白花很像\n",
    "\n",
    "class Solution:\n",
    "    def jumpFloor(self, number):\n",
    "        # write code here\n",
    "        dp=[0]*(number+1)\n",
    "        dp[0]=1\n",
    "        for i in range(1,len(dp)):\n",
    "            if i-2>=0:\n",
    "                dp[i]=dp[i-2]+dp[i-1]\n",
    "            else:\n",
    "                dp[i]=dp[i-1]\n",
    "        return dp[-1]\n"
   ]
  },
  {
   "cell_type": "code",
   "execution_count": 6,
   "metadata": {},
   "outputs": [
    {
     "data": {
      "text/plain": [
       "3.8"
      ]
     },
     "execution_count": 6,
     "metadata": {},
     "output_type": "execute_result"
    }
   ],
   "source": [
    "# 搜索  经典用二分法  但是二分法不适用于 含有相等元素的\n",
    "\n",
    "# 数1\n",
    "#30有343个1   分别当10位为0 1 2\n",
    "#31"
   ]
  },
  {
   "cell_type": "code",
   "execution_count": 7,
   "metadata": {},
   "outputs": [
    {
     "data": {
      "text/plain": [
       "'123'"
      ]
     },
     "execution_count": 7,
     "metadata": {},
     "output_type": "execute_result"
    }
   ],
   "source": [
    "a=123\n",
    "str(a)"
   ]
  },
  {
   "cell_type": "code",
   "execution_count": 8,
   "metadata": {},
   "outputs": [
    {
     "data": {
      "text/plain": [
       "100"
      ]
     },
     "execution_count": 8,
     "metadata": {},
     "output_type": "execute_result"
    }
   ],
   "source": [
    "10**2"
   ]
  },
  {
   "cell_type": "code",
   "execution_count": 45,
   "metadata": {},
   "outputs": [],
   "source": [
    "#  给定一个数，问从0数到这个数，一共有多少个1\n",
    "\n",
    "class Solution:\n",
    "    def NumberOf1Between1AndN_Solution(self, n):\n",
    "        # write code here\n",
    "        n_=str(n)\n",
    "        lon=len(n_)\n",
    "        cnt=0\n",
    "        for i in range(lon):\n",
    "            m=lon-1-i #个位 的n=0，m=长度-1\n",
    "            print(lon)\n",
    "            #第i位是什么\n",
    "            now=n_[m]\n",
    "            if now =='0':\n",
    "                print(int(n/(10**(i+1)))*(10**i))\n",
    "                cnt+= int(n/(10**(i+1)))*(10**i)\n",
    "                \n",
    "            elif now >='2':\n",
    "                    cnt+= int(n/(10**(i+1))+1)*(10**i)\n",
    "            elif now == '1':\n",
    "                #算个位数时候\n",
    "                b=(n%(10**i))\n",
    "                print(b)\n",
    "                if i==0:\n",
    "                    cnt+= int(n/(10**(i+1)))*(10**i)+1\n",
    "                else:\n",
    "                    print(int(n/(10**(i+1)))*(10**i)+(b+1))\n",
    "                    cnt+= int(n/(10**(i+1)))*(10**i)+(b+1)\n",
    "        return cnt"
   ]
  },
  {
   "cell_type": "code",
   "execution_count": 46,
   "metadata": {},
   "outputs": [
    {
     "name": "stdout",
     "output_type": "stream",
     "text": [
      "5\n",
      "1000\n",
      "5\n",
      "1000\n",
      "5\n",
      "1000\n",
      "5\n",
      "1000\n",
      "5\n",
      "0\n",
      "1\n"
     ]
    },
    {
     "data": {
      "text/plain": [
       "4001"
      ]
     },
     "execution_count": 46,
     "metadata": {},
     "output_type": "execute_result"
    }
   ],
   "source": [
    "exam=Solution()\n",
    "exam.NumberOf1Between1AndN_Solution(10000)"
   ]
  },
  {
   "cell_type": "code",
   "execution_count": null,
   "metadata": {},
   "outputs": [],
   "source": []
  }
 ],
 "metadata": {
  "kernelspec": {
   "display_name": "Python 3",
   "language": "python",
   "name": "python3"
  },
  "language_info": {
   "codemirror_mode": {
    "name": "ipython",
    "version": 3
   },
   "file_extension": ".py",
   "mimetype": "text/x-python",
   "name": "python",
   "nbconvert_exporter": "python",
   "pygments_lexer": "ipython3",
   "version": "3.6.7"
  }
 },
 "nbformat": 4,
 "nbformat_minor": 2
}
